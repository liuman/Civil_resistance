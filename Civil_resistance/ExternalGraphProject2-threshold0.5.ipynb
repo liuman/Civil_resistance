{
 "cells": [
  {
   "cell_type": "code",
   "execution_count": 39,
   "metadata": {},
   "outputs": [],
   "source": [
    "import networkx as nx\n",
    "import numpy as np\n",
    "import matplotlib.pyplot as plt\n",
    "from math import log\n",
    "\n",
    "### In this version if a healthy individual(blue) is connected to an infected(red) there is a probability I that they\n",
    "### will become infected. If an individual is red there is a probability R of becoming blue. We assume no immunity \n",
    "### after recovery, and also DONT assume that if an infected individual has only infected neighours they are \n",
    "### immune to recovery"
   ]
  },
  {
   "cell_type": "markdown",
   "metadata": {},
   "source": [
    "# Functions defined that govern dynamics"
   ]
  },
  {
   "cell_type": "code",
   "execution_count": 40,
   "metadata": {},
   "outputs": [],
   "source": [
    "N = 10000\n",
    "k = 5 # on average the number of friends one has\n",
    "p = 0.4 # probability of rewiring in the Wats-Strogatz algorithm\n",
    "\n",
    "R = 0.01 #recovery probability\n",
    "I = 0.1 #infection probability\n",
    "\n",
    "\n",
    "init_inf = 0.02 # proportion of infected people\n",
    "threshold_up = int(0.2*N) # when the disease is successful\n",
    "threshold_down = int(0.01*N) # when it dies off"
   ]
  },
  {
   "cell_type": "code",
   "execution_count": 41,
   "metadata": {},
   "outputs": [],
   "source": [
    "def color_edges(G):\n",
    "    \n",
    "    for j in range(N):\n",
    "        G.nodes[j]['color'] = 'blue' # not infected\n",
    "    for j in init_distr:\n",
    "        G.nodes[j]['color'] = 'red' # infect\n",
    "    return G"
   ]
  },
  {
   "cell_type": "code",
   "execution_count": 42,
   "metadata": {},
   "outputs": [],
   "source": [
    "def evolve(G, infic, inf_time):\n",
    "    nextstate = np.zeros(N) # 0 is blue, 1 is red\n",
    "    while (threshold_down<infic) and (infic<threshold_up):\n",
    "        for n, nbrs in G.adj.items():            #These two lines are a weird artefact for accesing neighbours in nx\n",
    "            if G.nodes[n]['color'] == 'blue':\n",
    "                if any([G.nodes[nbr]['color']=='red'] for nbr, eatr in nbrs.items() ):\n",
    "                    nextstate[n]=np.random.binomial(1,I)\n",
    "                else:\n",
    "                    nextstate[n]=0\n",
    "            else:                            #else it is infected and has probability of flipping and becoming succeptible again\n",
    "                nextstate[n]=np.random.binomial(1,(1-R))\n",
    "        infic = sum(nextstate)\n",
    "        inf_time = np.append(inf_time,[100*infic/N])\n",
    "\n",
    "        for j in range(N):\n",
    "            if nextstate[j] == 0:\n",
    "                G.nodes[j]['color'] = 'blue'\n",
    "            else:\n",
    "                G.nodes[j]['color'] = 'red'\n",
    "            \n",
    "    return G, infic, inf_time"
   ]
  },
  {
   "cell_type": "code",
   "execution_count": 43,
   "metadata": {},
   "outputs": [],
   "source": [
    "def evolve_with_immunity(G, infic, inf_time):\n",
    "    nextstate = np.zeros(N) # 0 is blue, 1 is red\n",
    "    while (threshold_down<infic<threshold_up):\n",
    "        for n, nbrs in G.adj.items():            #These two lines are a weird artefact for accesing neighbours in nx\n",
    "                if G.nodes[n]['color'] == 'blue':\n",
    "                    if any([G.nodes[nbr]['color']=='red'] for nbr, eatr in nbrs.items() ):\n",
    "                        nextstate[n]=np.random.binomial(1,I)\n",
    "                    else:\n",
    "                        nextstate[n]=0\n",
    "                else:                            #else it is infected and has probability of flipping and becoming succeptible again\n",
    "                    nextstate[n]=int(np.random.binomial(1,R) + 1) #2 means immune now\n",
    "        infic = list(nextstate).count(1)\n",
    "        inf_time = np.append([inf_time],[100*infic/N])\n",
    "        for j in range(N):\n",
    "            if nextstate[j] == 0:\n",
    "                G.nodes[j]['color'] = 'blue'\n",
    "            elif nextstate[j] == 1:\n",
    "                G.nodes[j]['color'] = 'red'\n",
    "            else:\n",
    "                G.nodes[j]['color'] = 'green' #immune\n",
    "\n",
    "    \n",
    "    return G, infic, inf_time"
   ]
  },
  {
   "cell_type": "code",
   "execution_count": 44,
   "metadata": {},
   "outputs": [],
   "source": [
    "def evolve_variable_rate(G, infic, inf_time):\n",
    "    nextstate = np.zeros(N) # 0 is blue, 1 is red\n",
    "    \n",
    "    R0 = infic\n",
    "    \n",
    "    while (threshold_down<infic) and (infic<threshold_up):\n",
    "        for n, nbrs in G.adj.items():            #These two lines are a weird artefact for accesing neighbours in nx\n",
    "            if G.nodes[n]['color'] == 'blue':\n",
    "                if any([G.nodes[nbr]['color']=='red'] for nbr, eatr in nbrs.items() ):\n",
    "                    nextstate[n]=np.random.binomial(1,I)\n",
    "                else:\n",
    "                    nextstate[n]=0\n",
    "            else:                            #else it is infected and has probability of flipping and becoming succeptible again\n",
    "                nextstate[n]=np.random.binomial(1,(1-R*(1 + (infic-R0)/R0)))\n",
    "        R0 = infic\n",
    "        infic = sum(nextstate)\n",
    "        inf_time = np.append(inf_time,[100*infic/N])\n",
    "\n",
    "        for j in range(N):\n",
    "            if nextstate[j] == 0:\n",
    "                G.nodes[j]['color'] = 'blue'\n",
    "            else:\n",
    "                G.nodes[j]['color'] = 'red'\n",
    "            \n",
    "    return G, infic, inf_time"
   ]
  },
  {
   "cell_type": "code",
   "execution_count": 45,
   "metadata": {},
   "outputs": [],
   "source": [
    "def evolve_neighbour_dependent(H, inf, inf_t):\n",
    "    nextstate = np.zeros(N)\n",
    "    while (threshold_down<inf<threshold_up):\n",
    "        for n, nbrs in H.adj.items():           #These two lines are a weird artefact for accesing neighbours in nx\n",
    "            if len(nbrs)>0:\n",
    "                countr = 0                      #count red neighbours\n",
    "                for nbr, eatr in nbrs.items():\n",
    "                    if H.nodes[nbr]['color']=='red':\n",
    "                        countr = countr + 1\n",
    "                if H.nodes[n]['color'] == 'blue':\n",
    "                    nextstate[n]=np.random.binomial(1,I*countr/len(nbrs))\n",
    "                else:                            #else it is infected and has probability of flipping and becoming succeptible again\n",
    "                    nextstate[n]=np.random.binomial(1,(1-R*(1-(countr/len(nbrs))))) \n",
    "            else:\n",
    "                if H.nodes[n]['color']=='blue':\n",
    "                    nextstate[n]=0\n",
    "                else:\n",
    "                    nextstate[n]=1\n",
    "        inf = list(nextstate).count(1)\n",
    "        inf_t = np.append([inf_t],[100*inf/N])\n",
    "        for j in range(N):\n",
    "            if nextstate[j] == 0:\n",
    "                H.nodes[j]['color'] = 'blue'\n",
    "            elif nextstate[j] == 1:\n",
    "                H.nodes[j]['color'] = 'red'\n",
    "                \n",
    "    return H, inf, inf_t"
   ]
  },
  {
   "cell_type": "markdown",
   "metadata": {},
   "source": [
    "# Behaviour of dissease for infection with no recovery"
   ]
  },
  {
   "cell_type": "markdown",
   "metadata": {},
   "source": [
    "Here we run a basic SIR model on graphs G (Watts-Strogatz) and G2(Scale-free) for pure infection with no Recovery"
   ]
  },
  {
   "cell_type": "code",
   "execution_count": 46,
   "metadata": {},
   "outputs": [
    {
     "name": "stdout",
     "output_type": "stream",
     "text": [
      "For small-world, the disease won and the infection level is 20.89%. The evolution here follows an SIR model with no recovery\n"
     ]
    },
    {
     "data": {
      "image/png": "[encoded data removed]",
      "text/plain": [
       "<Figure size 432x288 with 1 Axes>"
      ]
     },
     "metadata": {
      "needs_background": "light"
     },
     "output_type": "display_data"
    },
    {
     "name": "stdout",
     "output_type": "stream",
     "text": [
      "For Scale free, the disease won and the infection level is 20.72%. The evolution here follows an SIR model with no recovery\n"
     ]
    },
    {
     "data": {
      "image/png": "[encoded data removed]",
      "text/plain": [
       "<Figure size 432x288 with 1 Axes>"
      ]
     },
     "metadata": {
      "needs_background": "light"
     },
     "output_type": "display_data"
    }
   ],
   "source": [
    "G = nx.connected_watts_strogatz_graph(N,k,p) # Small-world network\n",
    "G2 = nx.barabasi_albert_graph(N,1)                  # Scale free\n",
    "\n",
    "init_distr = np.random.choice(N, int(round(N*init_inf)), replace=False) #Initial infected nodes\n",
    "\n",
    "inf = int(round(N*init_inf))\n",
    "\n",
    "G = color_edges(G)\n",
    "G2 = color_edges(G2)\n",
    "\n",
    "nextstate = np.zeros(N) # 0 is blue, 1 is red\n",
    "inf_t =np.array([100*inf/N]) # infected at time t\n",
    "\n",
    "inf2=int(round(N*init_inf))\n",
    "inf_t2 =np.array([100*inf2/N]) \n",
    "\n",
    "G, inf, inf_t = evolve(G,inf,inf_t)                      \n",
    "G2, inf2, inf_t2 = evolve(G2,inf2,inf_t2)\n",
    "\n",
    "if inf<threshold_down:\n",
    "    print(\"For small-world, the disease was wiped out and the infection level is {}%. The evolution here follows an SIR model with no recovery\".format(round(100*inf/N,2)))\n",
    "if inf>threshold_up:\n",
    "    print(\"For small-world, the disease won and the infection level is {}%. The evolution here follows an SIR model with no recovery\".format(round(100*inf/N,2)) )\n",
    "\n",
    "plt.plot(inf_t)\n",
    "plt.show()\n",
    "\n",
    "if inf<threshold_down:\n",
    "    print(\"For Scale free, the disease was wiped out and the infection level is {}%. The evolution here follows an SIR model with no recovery\".format(round(100*inf2/N,2)) )\n",
    "if inf>threshold_up:\n",
    "    print(\"For Scale free, the disease won and the infection level is {}%. The evolution here follows an SIR model with no recovery\".format(round(100*inf2/N,2)) )\n",
    "\n",
    "plt.plot(inf_t2)\n",
    "plt.show()"
   ]
  },
  {
   "cell_type": "markdown",
   "metadata": {},
   "source": [
    "This is expected since the recovery rate is much lower than the infection rate, there is essentially no way for the dissease to slow down.\n",
    "\n",
    "We shall continue looking at the ones where we introduce immunity."
   ]
  },
  {
   "cell_type": "markdown",
   "metadata": {},
   "source": [
    "# Behaviour of dissease for infection with recovery"
   ]
  },
  {
   "cell_type": "code",
   "execution_count": 47,
   "metadata": {},
   "outputs": [
    {
     "name": "stdout",
     "output_type": "stream",
     "text": [
      "The disease won and the infection level is 20.05%. Here we take SIR with both infection and recovery.\n"
     ]
    },
    {
     "data": {
      "image/png": "[encoded data removed]",
      "text/plain": [
       "<Figure size 432x288 with 1 Axes>"
      ]
     },
     "metadata": {
      "needs_background": "light"
     },
     "output_type": "display_data"
    },
    {
     "name": "stdout",
     "output_type": "stream",
     "text": [
      "For Scale free, the disease won and the infection level is 21.37%. Here we take SIR with both infection and recovery.\n"
     ]
    },
    {
     "data": {
      "image/png": "[encoded data removed]",
      "text/plain": [
       "<Figure size 432x288 with 1 Axes>"
      ]
     },
     "metadata": {
      "needs_background": "light"
     },
     "output_type": "display_data"
    }
   ],
   "source": [
    "F = nx.connected_watts_strogatz_graph(N,k,p) \n",
    "\n",
    "color_edges(F)\n",
    "    \n",
    "inf = int(round(N*init_inf))\n",
    "inf_t_immune = np.array([100*inf/N])\n",
    "\n",
    "F2 = nx.barabasi_albert_graph(N,1)\n",
    "\n",
    "color_edges(F2)\n",
    "    \n",
    "inf2 = int(round(N*init_inf))\n",
    "inf_t_immune2 = np.array([100*inf2/N])\n",
    "\n",
    "F, inf, inf_t_immune = evolve_with_immunity(F, inf, inf_t_immune)\n",
    "\n",
    "F2, inf2, inf_t_immune2 = evolve_with_immunity(F2, inf2, inf_t_immune2)\n",
    "    \n",
    "\n",
    "if inf<threshold_down:\n",
    "    print(\"The disease was wiped out and the infection level is {}%. Here we take SIR with both infection and recovery.\".format(round(100*inf/N,2)) )\n",
    "if inf>threshold_up:\n",
    "    print(\"The disease won and the infection level is {}%. Here we take SIR with both infection and recovery.\".format(round(100*inf/N,2)) )\n",
    "    \n",
    "plt.plot(inf_t_immune)\n",
    "plt.show()\n",
    "\n",
    "if inf2<threshold_down:\n",
    "    print(\"For Scale free, the disease was wiped out and the infection level is {}% . Here we take SIR with both infection and recovery.\".format(round(100*inf2/N,2)) )\n",
    "if inf2>threshold_up:\n",
    "    print(\"For Scale free, the disease won and the infection level is {}%. Here we take SIR with both infection and recovery.\".format(round(100*inf2/N,2)) )\n",
    "\n",
    "plt.plot(inf_t_immune2)\n",
    "plt.show()"
   ]
  },
  {
   "cell_type": "markdown",
   "metadata": {},
   "source": [
    "Now consider a model where the infection rate of an individual depends on the proportion od neighbours infected. Treat both, being red and being blue as infection states. This means, if an individual is red, then we look at the proportion of neighbours that are blue to calculate the switch rate. Similarly for blue individuals. Note, even if a node is blue and all its neighbours are red (or vice-versa) there is still a possibility of the individual to remain blue (This should reflect the fact that changing opinions is difficult). We do however want that if a blue individual is connected to only blue neighbours, the probability of becomming radicalized is 0. We shall assume first that the infection rate of red (radical ideas) is higher than blue, so that it makes sense to talk about an idea to be successful, otherwise it is obvious that blue would win if the starting percentage of red is around 3% as reffered in the paper.\n",
    "\n",
    "We consider no Immunity."
   ]
  },
  {
   "cell_type": "markdown",
   "metadata": {},
   "source": [
    "# Behaviour of disease with neighbour dependent infection rate"
   ]
  },
  {
   "cell_type": "code",
   "execution_count": 48,
   "metadata": {},
   "outputs": [
    {
     "name": "stdout",
     "output_type": "stream",
     "text": [
      "The disease won and the infection level is 20.99%. Here the rate at which vertices get infected depends on the proportion of infected neighbours.\n"
     ]
    },
    {
     "data": {
      "image/png": "[encoded data removed]",
      "text/plain": [
       "<Figure size 432x288 with 1 Axes>"
      ]
     },
     "metadata": {
      "needs_background": "light"
     },
     "output_type": "display_data"
    },
    {
     "name": "stdout",
     "output_type": "stream",
     "text": [
      "For Scale free, the disease won and the infection level is 20.09%. Here the rate at which vertices get infected depends on the proportion of infected neighbours.\n"
     ]
    },
    {
     "data": {
      "image/png": "[encoded data removed]",
      "text/plain": [
       "<Figure size 432x288 with 1 Axes>"
      ]
     },
     "metadata": {
      "needs_background": "light"
     },
     "output_type": "display_data"
    }
   ],
   "source": [
    "H = nx.connected_watts_strogatz_graph(N,k,p) \n",
    "\n",
    "color_edges(H)\n",
    "    \n",
    "inf = int(round(N*init_inf))\n",
    "inf_t = np.array([100*inf/N])\n",
    "\n",
    "I = 0.5 #at maximum red neighbours this is the flipping rate for blue\n",
    "R = 0.3 #at maximum blue neighbours this is the flipping rate for red\n",
    "\n",
    "H2 = nx.barabasi_albert_graph(N,1)\n",
    "\n",
    "color_edges(H2)\n",
    "    \n",
    "inf2 = int(round(N*init_inf))\n",
    "inf_t2 = np.array([100*inf2/N])\n",
    "nextstate = np.zeros(N)\n",
    "nextstate2 = np.zeros(N)\n",
    "\n",
    "H,inf, inf_t = evolve_neighbour_dependent(H,inf, inf_t)\n",
    "H2, inf2, inf_t2 = evolve_neighbour_dependent(H2, inf2, inf_t2)\n",
    "\n",
    "if inf<threshold_down:\n",
    "    print(\"The disease was wiped out and the infection level is {}%. Here the rate at which vertices get infected depends on the proportion of infected neighbours.\".format(round(100*inf/N,2)) )\n",
    "if inf>threshold_up:\n",
    "    print(\"The disease won and the infection level is {}%. Here the rate at which vertices get infected depends on the proportion of infected neighbours.\".format(round(100*inf/N,2)) )\n",
    "    \n",
    "plt.plot(inf_t)\n",
    "plt.show()\n",
    "\n",
    "if inf2<threshold_down:\n",
    "    print(\"For Scale free, the disease was wiped out and the infection level is {}%. Here the rate at which vertices get infected depends on the proportion of infected neighbours.\".format(round(100*inf2/N,2)) )\n",
    "if inf2>threshold_up:\n",
    "    print(\"For Scale free, the disease won and the infection level is {}%. Here the rate at which vertices get infected depends on the proportion of infected neighbours.\".format(round(100*inf2/N,2)) )\n",
    "\n",
    "plt.plot(inf_t2)\n",
    "plt.show()"
   ]
  },
  {
   "cell_type": "markdown",
   "metadata": {},
   "source": [
    "# GNP random Graph with fixed infection and recovery rate"
   ]
  },
  {
   "cell_type": "code",
   "execution_count": 49,
   "metadata": {},
   "outputs": [
    {
     "name": "stdout",
     "output_type": "stream",
     "text": [
      "The disease won and the infection level is 50.22%. Basic SIR with immunity\n"
     ]
    },
    {
     "data": {
      "image/png": "[encoded data removed]",
      "text/plain": [
       "<Figure size 432x288 with 1 Axes>"
      ]
     },
     "metadata": {
      "needs_background": "light"
     },
     "output_type": "display_data"
    }
   ],
   "source": [
    "p = 2*log(N)/N\n",
    "Gnp = nx.gnp_random_graph(N,p)\n",
    "\n",
    "color_edges(Gnp)\n",
    "\n",
    "inf = int(round(N*init_inf))\n",
    "inf_t = np.array([100*inf/N])\n",
    "\n",
    "Gnp, inf, inf_t = evolve_with_immunity(Gnp, inf, inf_t)\n",
    "\n",
    "if inf<threshold_down:\n",
    "    print(\"The disease was wiped out and the infection level is {}%. Basic SIR with immunity.\".format(round(100*inf/N,2)) )\n",
    "if inf>threshold_up:\n",
    "    print(\"The disease won and the infection level is {}%. Basic SIR with immunity\".format(round(100*inf/N,2)) )\n",
    "    \n",
    "plt.plot(inf_t)\n",
    "plt.show()"
   ]
  },
  {
   "cell_type": "markdown",
   "metadata": {},
   "source": [
    "# GNP random Graph with neighbour dependent infection and recovery rate"
   ]
  },
  {
   "cell_type": "code",
   "execution_count": 50,
   "metadata": {},
   "outputs": [
    {
     "name": "stdout",
     "output_type": "stream",
     "text": [
      "The disease won and the infection level is 50.72%. Neighbour dependent rate.\n"
     ]
    },
    {
     "data": {
      "image/png": "[encoded data removed]",
      "text/plain": [
       "<Figure size 432x288 with 1 Axes>"
      ]
     },
     "metadata": {
      "needs_background": "light"
     },
     "output_type": "display_data"
    }
   ],
   "source": [
    "color_edges(Gnp)\n",
    "\n",
    "inf = int(round(N*init_inf))\n",
    "inf_t = np.array([100*inf/N])\n",
    "\n",
    "Gnp, inf, inf_t = evolve_variable_rate(Gnp, inf, inf_t)\n",
    "\n",
    "if inf<threshold_down:\n",
    "    print(\"The disease was wiped out and the infection level is {}%. Neighbour dependent rate.\".format(round(100*inf/N,2)) )\n",
    "if inf>threshold_up:\n",
    "    print(\"The disease won and the infection level is {}%. Neighbour dependent rate.\".format(round(100*inf/N,2)) )\n",
    "    \n",
    "plt.plot(inf_t)\n",
    "plt.show()"
   ]
  },
  {
   "cell_type": "markdown",
   "metadata": {},
   "source": [
    "## Running several different initial infection rates for Wattz-Stogatz"
   ]
  },
  {
   "cell_type": "code",
   "execution_count": 51,
   "metadata": {},
   "outputs": [],
   "source": [
    "N = 10000\n",
    "k = 5 # on average the number of friends one has\n",
    "p = 0.4 # probability of rewiring in the Wats-Strogatz algorithm\n",
    "\n",
    "array_init = np.array([1.5])\n",
    "\n",
    "threshold_up = int(0.5*N) # when the disease is successful\n",
    "threshold_down = int(0.001*N) # when it dies off"
   ]
  },
  {
   "cell_type": "code",
   "execution_count": 52,
   "metadata": {},
   "outputs": [
    {
     "name": "stdout",
     "output_type": "stream",
     "text": [
      "At starting infection level 1.5%, the disease won and the infection         level is 50.03%\n"
     ]
    },
    {
     "data": {
      "image/png": "[encoded data removed]",
      "text/plain": [
       "<Figure size 432x288 with 1 Axes>"
      ]
     },
     "metadata": {
      "needs_background": "light"
     },
     "output_type": "display_data"
    }
   ],
   "source": [
    "for i in array_init:\n",
    "    H = nx.connected_watts_strogatz_graph(N,k,p) \n",
    "\n",
    "    color_edges(H)\n",
    "    \n",
    "    inf = int(round(N*i/100))\n",
    "    inf_t = np.array([100*inf/N])\n",
    "\n",
    "    I = 0.4 #at maximum red neighbours this is the flipping rate for blue\n",
    "    R = 0.35 #at maximum blue neighbours this is the flipping rate for red\n",
    "    \n",
    "    H,inf, inf_t = evolve_neighbour_dependent(H,inf, inf_t)\n",
    "    \n",
    "    if inf<threshold_down:\n",
    "        print(\"At starting infection level {}%, the disease was wiped out and the \\\n",
    "        infection level is {}\".format(i ,round(inf/N,2)) )\n",
    "    if inf>threshold_up:\n",
    "        print(\"At starting infection level {}%, the disease won and the infection \\\n",
    "        level is {}%\".format(i, round(100*inf/N,2)) )\n",
    "    \n",
    "    plt.plot(inf_t)\n",
    "    plt.show()\n",
    "    \n",
    "    "
   ]
  },
  {
   "cell_type": "markdown",
   "metadata": {},
   "source": [
    "# Running several different initial infection rates for Scale free"
   ]
  },
  {
   "cell_type": "code",
   "execution_count": 53,
   "metadata": {
    "scrolled": true
   },
   "outputs": [
    {
     "name": "stdout",
     "output_type": "stream",
     "text": [
      "At starting infection level 1.5%, the disease won and the infection         level is 50.07%\n"
     ]
    },
    {
     "data": {
      "image/png": "[encoded data removed]",
      "text/plain": [
       "<Figure size 432x288 with 1 Axes>"
      ]
     },
     "metadata": {
      "needs_background": "light"
     },
     "output_type": "display_data"
    }
   ],
   "source": [
    "for i in array_init:\n",
    "    H = nx.barabasi_albert_graph(N,1)\n",
    "\n",
    "    color_edges(H)\n",
    "    \n",
    "    inf = int(round(N*i/100))\n",
    "    inf_t = np.array([100*inf/N])\n",
    "\n",
    "    I = 0.4 #at maximum red neighbours this is the flipping rate for blue\n",
    "    R = 0.35 #at maximum blue neighbours this is the flipping rate for red\n",
    "    \n",
    "    H,inf, inf_t = evolve_neighbour_dependent(H,inf, inf_t)\n",
    "    \n",
    "    if inf<=threshold_down:\n",
    "        print(\"At starting infection level {}%, the disease was wiped out and the \\\n",
    "        infection level is {}\".format(i ,round(inf/N,2)) )\n",
    "    if inf>=threshold_up:\n",
    "        print(\"At starting infection level {}%, the disease won and the infection \\\n",
    "        level is {}%\".format(i, round(100*inf/N,2)) )\n",
    "    \n",
    "    plt.plot(inf_t)\n",
    "    plt.show()"
   ]
  },
  {
   "cell_type": "code",
   "execution_count": null,
   "metadata": {},
   "outputs": [],
   "source": []
  }
 ],
 "metadata": {
  "kernelspec": {
   "display_name": "Python 3",
   "language": "python",
   "name": "python3"
  },
  "language_info": {
   "codemirror_mode": {
    "name": "ipython",
    "version": 3
   },
   "file_extension": ".py",
   "mimetype": "text/x-python",
   "name": "python",
   "nbconvert_exporter": "python",
   "pygments_lexer": "ipython3",
   "version": "3.5.2"
  }
 },
 "nbformat": 4,
 "nbformat_minor": 4
}
