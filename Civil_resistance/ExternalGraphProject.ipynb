{
 "cells": [
  {
   "cell_type": "code",
   "execution_count": 75,
   "metadata": {},
   "outputs": [],
   "source": [
    "import networkx as nx\n",
    "import numpy as np\n",
    "\n",
    "### In this version if a healthy individual(blue) is connected to an infected(red) there is a probability I that they\n",
    "### will become infected. If an individual is red there is a probability R of becoming blue. We assume no immunity \n",
    "### after recovery, and also DONT assume that if an infected individual has only infected neighours they are \n",
    "### immune to recovery"
   ]
  },
  {
   "cell_type": "code",
   "execution_count": 76,
   "metadata": {},
   "outputs": [],
   "source": [
    "n = 100\n",
    "k = 5 # on average the number of friends one has\n",
    "p = 0.5 # probability of rewiring in the Wats-Strogatz algorithm\n",
    "\n",
    "G = nx.connected_watts_strogatz_graph(n,k,p) # Small-world network"
   ]
  },
  {
   "cell_type": "code",
   "execution_count": 77,
   "metadata": {},
   "outputs": [],
   "source": [
    "for j in range(n):\n",
    "    G.nodes[j]['color'] = 'blue' # not infected"
   ]
  },
  {
   "cell_type": "code",
   "execution_count": 78,
   "metadata": {},
   "outputs": [],
   "source": [
    "init_inf = 0.03 # proportion of infected people\n",
    "threshold_up = 0.2*n # when the disease is successful\n",
    "threshold_down = 0.001*n # when it dies off\n",
    "\n",
    "init_distr = np.random.choice(n, int(round(n*init_inf)), replace=False) #Initial infected nodes\n",
    "\n",
    "inf = int(round(n*init_inf))"
   ]
  },
  {
   "cell_type": "code",
   "execution_count": 79,
   "metadata": {},
   "outputs": [],
   "source": [
    "for j in init_distr:\n",
    "    G.nodes[j]['color'] = 'red' # infect"
   ]
  },
  {
   "cell_type": "code",
   "execution_count": 80,
   "metadata": {},
   "outputs": [],
   "source": [
    "# Using standard SIR model\n",
    "\n",
    "R = 0.01 #recovery probability\n",
    "I = 0.1 #infection probability\n",
    "\n",
    "nextstate = np.zeros(100)"
   ]
  },
  {
   "cell_type": "code",
   "execution_count": 81,
   "metadata": {},
   "outputs": [],
   "source": [
    "while (threshold_down<inf<threshold_up):\n",
    "    for n, nbrs in G.adj.items():            #These two lines are a weird artefact for accesing neighbours in nx\n",
    "            if G.nodes[n]['color'] == 'blue':\n",
    "                if any([G.nodes[nbr]['color']=='red'] for nbr, eatr in nbrs.items() ):\n",
    "                    nextstate[n]=np.random.binomial(1,I)\n",
    "                else:\n",
    "                    nextstate[n]=0\n",
    "            else:                            #else it is infected and has probability of flipping and becoming succeptible again\n",
    "                nextstate[n]=np.random.binomial(1,(1-R))\n",
    "    inf = sum(nextstate)\n",
    "    for j in range(n):\n",
    "        if nextstate[j] == 0:\n",
    "            G.nodes[j]['color'] = 'blue'\n",
    "        else:\n",
    "            G.nodes[j]['color'] = 'red'"
   ]
  },
  {
   "cell_type": "code",
   "execution_count": 82,
   "metadata": {},
   "outputs": [
    {
     "name": "stdout",
     "output_type": "stream",
     "text": [
      "The disease won and the infection level is 29.29%\n"
     ]
    }
   ],
   "source": [
    "if inf<threshold_down:\n",
    "    print(\"The disease was wiped out and the infection level is {}\".format(round(100*inf/n,2)) )\n",
    "if inf>threshold_up:\n",
    "    print(\"The disease won and the infection level is {}%\".format(round(100*inf/n,2)) )"
   ]
  },
  {
   "cell_type": "code",
   "execution_count": null,
   "metadata": {},
   "outputs": [],
   "source": []
  }
 ],
 "metadata": {
  "kernelspec": {
   "display_name": "Python 3",
   "language": "python",
   "name": "python3"
  },
  "language_info": {
   "codemirror_mode": {
    "name": "ipython",
    "version": 3
   },
   "file_extension": ".py",
   "mimetype": "text/x-python",
   "name": "python",
   "nbconvert_exporter": "python",
   "pygments_lexer": "ipython3",
   "version": "3.7.4"
  }
 },
 "nbformat": 4,
 "nbformat_minor": 4
}
