{
 "cells": [
  {
   "cell_type": "code",
   "execution_count": 1,
   "metadata": {},
   "outputs": [],
   "source": [
    "import networkx as nx\n",
    "import numpy as np\n",
    "import matplotlib.pyplot as plt\n",
    "from math import log\n",
    "\n",
    "### In this version if a healthy individual(blue) is connected to an infected(red) there is a probability I that they\n",
    "### will become infected. If an individual is red there is a probability R of becoming blue. We assume no immunity \n",
    "### after recovery, and also DONT assume that if an infected individual has only infected neighours they are \n",
    "### immune to recovery"
   ]
  },
  {
   "cell_type": "markdown",
   "metadata": {},
   "source": [
    "# Functions defined that govern dynamics"
   ]
  },
  {
   "cell_type": "code",
   "execution_count": 2,
   "metadata": {},
   "outputs": [],
   "source": [
    "N = 10000\n",
    "k = 5 # on average the number of friends one has\n",
    "p = 0.4 # probability of rewiring in the Wats-Strogatz algorithm\n",
    "\n",
    "R = 0.01 #recovery probability\n",
    "I = 0.1 #infection probability\n",
    "\n",
    "\n",
    "init_inf = 0.02 # proportion of infected people\n",
    "threshold_up = int(0.2*N) # when the disease is successful\n",
    "threshold_down = int(0.01*N) # when it dies off"
   ]
  },
  {
   "cell_type": "code",
   "execution_count": 3,
   "metadata": {},
   "outputs": [],
   "source": [
    "def color_edges(G):\n",
    "    \n",
    "    for j in range(N):\n",
    "        G.nodes[j]['color'] = 'blue' # not infected\n",
    "    for j in init_distr:\n",
    "        G.nodes[j]['color'] = 'red' # infect\n",
    "    return G"
   ]
  },
  {
   "cell_type": "code",
   "execution_count": 4,
   "metadata": {},
   "outputs": [],
   "source": [
    "def evolve(G, infic, inf_time):\n",
    "    nextstate = np.zeros(N) # 0 is blue, 1 is red\n",
    "    while (threshold_down<infic) and (infic<threshold_up):\n",
    "        for n, nbrs in G.adj.items():            #These two lines are a weird artefact for accesing neighbours in nx\n",
    "            if G.nodes[n]['color'] == 'blue':\n",
    "                if any([G.nodes[nbr]['color']=='red'] for nbr, eatr in nbrs.items() ):\n",
    "                    nextstate[n]=np.random.binomial(1,I)\n",
    "                else:\n",
    "                    nextstate[n]=0\n",
    "            else:                            #else it is infected and has probability of flipping and becoming succeptible again\n",
    "                nextstate[n]=np.random.binomial(1,(1-R))\n",
    "        infic = sum(nextstate)\n",
    "        inf_time = np.append(inf_time,[100*infic/N])\n",
    "\n",
    "        for j in range(N):\n",
    "            if nextstate[j] == 0:\n",
    "                G.nodes[j]['color'] = 'blue'\n",
    "            else:\n",
    "                G.nodes[j]['color'] = 'red'\n",
    "            \n",
    "    return G, infic, inf_time"
   ]
  },
  {
   "cell_type": "code",
   "execution_count": 5,
   "metadata": {},
   "outputs": [],
   "source": [
    "def evolve_with_immunity(G, infic, inf_time):\n",
    "    nextstate = np.zeros(N) # 0 is blue, 1 is red\n",
    "    while (threshold_down<infic<threshold_up):\n",
    "        for n, nbrs in G.adj.items():            #These two lines are a weird artefact for accesing neighbours in nx\n",
    "                if G.nodes[n]['color'] == 'blue':\n",
    "                    if any([G.nodes[nbr]['color']=='red'] for nbr, eatr in nbrs.items() ):\n",
    "                        nextstate[n]=np.random.binomial(1,I)\n",
    "                    else:\n",
    "                        nextstate[n]=0\n",
    "                else:                            #else it is infected and has probability of flipping and becoming succeptible again\n",
    "                    nextstate[n]=int(np.random.binomial(1,R) + 1) #2 means immune now\n",
    "        infic = list(nextstate).count(1)\n",
    "        inf_time = np.append([inf_time],[100*infic/N])\n",
    "        for j in range(N):\n",
    "            if nextstate[j] == 0:\n",
    "                G.nodes[j]['color'] = 'blue'\n",
    "            elif nextstate[j] == 1:\n",
    "                G.nodes[j]['color'] = 'red'\n",
    "            else:\n",
    "                G.nodes[j]['color'] = 'green' #immune\n",
    "\n",
    "    \n",
    "    return G, infic, inf_time"
   ]
  },
  {
   "cell_type": "code",
   "execution_count": 6,
   "metadata": {},
   "outputs": [],
   "source": [
    "def evolve_variable_rate(G, infic, inf_time):\n",
    "    nextstate = np.zeros(N) # 0 is blue, 1 is red\n",
    "    \n",
    "    R0 = infic\n",
    "    \n",
    "    while (threshold_down<infic) and (infic<threshold_up):\n",
    "        for n, nbrs in G.adj.items():            #These two lines are a weird artefact for accesing neighbours in nx\n",
    "            if G.nodes[n]['color'] == 'blue':\n",
    "                if any([G.nodes[nbr]['color']=='red'] for nbr, eatr in nbrs.items() ):\n",
    "                    nextstate[n]=np.random.binomial(1,I)\n",
    "                else:\n",
    "                    nextstate[n]=0\n",
    "            else:                            #else it is infected and has probability of flipping and becoming succeptible again\n",
    "                nextstate[n]=np.random.binomial(1,(1-R*(1 + (infic-R0)/R0)))\n",
    "        R0 = infic\n",
    "        infic = sum(nextstate)\n",
    "        inf_time = np.append(inf_time,[100*infic/N])\n",
    "\n",
    "        for j in range(N):\n",
    "            if nextstate[j] == 0:\n",
    "                G.nodes[j]['color'] = 'blue'\n",
    "            else:\n",
    "                G.nodes[j]['color'] = 'red'\n",
    "            \n",
    "    return G, infic, inf_time"
   ]
  },
  {
   "cell_type": "code",
   "execution_count": 9,
   "metadata": {},
   "outputs": [],
   "source": [
    "def evolve_neighbour_dependent(H, inf, inf_t):\n",
    "    nextstate = np.zeros(N)\n",
    "    while (threshold_down<inf<threshold_up):\n",
    "        for n, nbrs in H.adj.items():           #These two lines are a weird artefact for accesing neighbours in nx\n",
    "            if len(nbrs)>0:\n",
    "                countr = 0                      #count red neighbours\n",
    "                for nbr, eatr in nbrs.items():\n",
    "                    if H.nodes[nbr]['color']=='red':\n",
    "                        countr = countr + 1\n",
    "                if H.nodes[n]['color'] == 'blue':\n",
    "                    nextstate[n]=np.random.binomial(1,I*countr/len(nbrs))\n",
    "                else:                            #else it is infected and has probability of flipping and becoming succeptible again\n",
    "                    nextstate[n]=np.random.binomial(1,(1-R*(1-(countr/len(nbrs))))) \n",
    "            else:\n",
    "                if H.nodes[n]['color']=='blue':\n",
    "                    nextstate[n]=0\n",
    "                else:\n",
    "                    nextstate[n]=1\n",
    "        inf = list(nextstate).count(1)\n",
    "        inf_t = np.append([inf_t],[100*inf/N])\n",
    "        for j in range(N):\n",
    "            if nextstate[j] == 0:\n",
    "                H.nodes[j]['color'] = 'blue'\n",
    "            elif nextstate[j] == 1:\n",
    "                H.nodes[j]['color'] = 'red'\n",
    "        if len(inf_t)==10000:\n",
    "            break\n",
    "    return H, inf, inf_t"
   ]
  },
  {
   "cell_type": "markdown",
   "metadata": {},
   "source": [
    "# Behaviour of dissease for infection with no recovery"
   ]
  },
  {
   "cell_type": "markdown",
   "metadata": {},
   "source": [
    "Here we run a basic SIR model on graphs G (Watts-Strogatz) and G2(Scale-free) for pure infection with no Recovery"
   ]
  },
  {
   "cell_type": "code",
   "execution_count": 8,
   "metadata": {},
   "outputs": [
    {
     "ename": "KeyboardInterrupt",
     "evalue": "",
     "output_type": "error",
     "traceback": [
      "\u001b[0;31m---------------------------------------------------------------------------\u001b[0m",
      "\u001b[0;31mKeyboardInterrupt\u001b[0m                         Traceback (most recent call last)",
      "\u001b[0;32m<ipython-input-8-74e0c563af79>\u001b[0m in \u001b[0;36m<module>\u001b[0;34m\u001b[0m\n\u001b[1;32m      1\u001b[0m \u001b[0mG\u001b[0m \u001b[0;34m=\u001b[0m \u001b[0mnx\u001b[0m\u001b[0;34m.\u001b[0m\u001b[0mconnected_watts_strogatz_graph\u001b[0m\u001b[0;34m(\u001b[0m\u001b[0mN\u001b[0m\u001b[0;34m,\u001b[0m\u001b[0mk\u001b[0m\u001b[0;34m,\u001b[0m\u001b[0mp\u001b[0m\u001b[0;34m)\u001b[0m \u001b[0;31m# Small-world network\u001b[0m\u001b[0;34m\u001b[0m\u001b[0m\n\u001b[0;32m----> 2\u001b[0;31m \u001b[0mG2\u001b[0m \u001b[0;34m=\u001b[0m \u001b[0mnx\u001b[0m\u001b[0;34m.\u001b[0m\u001b[0mscale_free_graph\u001b[0m\u001b[0;34m(\u001b[0m\u001b[0mN\u001b[0m\u001b[0;34m)\u001b[0m                  \u001b[0;31m# Scale free\u001b[0m\u001b[0;34m\u001b[0m\u001b[0m\n\u001b[0m\u001b[1;32m      3\u001b[0m \u001b[0;34m\u001b[0m\u001b[0m\n\u001b[1;32m      4\u001b[0m \u001b[0minit_distr\u001b[0m \u001b[0;34m=\u001b[0m \u001b[0mnp\u001b[0m\u001b[0;34m.\u001b[0m\u001b[0mrandom\u001b[0m\u001b[0;34m.\u001b[0m\u001b[0mchoice\u001b[0m\u001b[0;34m(\u001b[0m\u001b[0mN\u001b[0m\u001b[0;34m,\u001b[0m \u001b[0mint\u001b[0m\u001b[0;34m(\u001b[0m\u001b[0mround\u001b[0m\u001b[0;34m(\u001b[0m\u001b[0mN\u001b[0m\u001b[0;34m*\u001b[0m\u001b[0minit_inf\u001b[0m\u001b[0;34m)\u001b[0m\u001b[0;34m)\u001b[0m\u001b[0;34m,\u001b[0m \u001b[0mreplace\u001b[0m\u001b[0;34m=\u001b[0m\u001b[0;32mFalse\u001b[0m\u001b[0;34m)\u001b[0m \u001b[0;31m#Initial infected nodes\u001b[0m\u001b[0;34m\u001b[0m\u001b[0m\n\u001b[1;32m      5\u001b[0m \u001b[0;34m\u001b[0m\u001b[0m\n",
      "\u001b[0;32m<decorator-gen-185>\u001b[0m in \u001b[0;36mscale_free_graph\u001b[0;34m(n, alpha, beta, gamma, delta_in, delta_out, create_using, seed)\u001b[0m\n",
      "\u001b[0;32m~/.local/lib/python3.5/site-packages/networkx/utils/decorators.py\u001b[0m in \u001b[0;36m_random_state\u001b[0;34m(func, *args, **kwargs)\u001b[0m\n\u001b[1;32m    462\u001b[0m         \u001b[0mnew_args\u001b[0m \u001b[0;34m=\u001b[0m \u001b[0mlist\u001b[0m\u001b[0;34m(\u001b[0m\u001b[0margs\u001b[0m\u001b[0;34m)\u001b[0m\u001b[0;34m\u001b[0m\u001b[0m\n\u001b[1;32m    463\u001b[0m         \u001b[0mnew_args\u001b[0m\u001b[0;34m[\u001b[0m\u001b[0mrandom_state_index\u001b[0m\u001b[0;34m]\u001b[0m \u001b[0;34m=\u001b[0m \u001b[0mrandom_state\u001b[0m\u001b[0;34m\u001b[0m\u001b[0m\n\u001b[0;32m--> 464\u001b[0;31m         \u001b[0;32mreturn\u001b[0m \u001b[0mfunc\u001b[0m\u001b[0;34m(\u001b[0m\u001b[0;34m*\u001b[0m\u001b[0mnew_args\u001b[0m\u001b[0;34m,\u001b[0m \u001b[0;34m**\u001b[0m\u001b[0mkwargs\u001b[0m\u001b[0;34m)\u001b[0m\u001b[0;34m\u001b[0m\u001b[0m\n\u001b[0m\u001b[1;32m    465\u001b[0m     \u001b[0;32mreturn\u001b[0m \u001b[0m_random_state\u001b[0m\u001b[0;34m\u001b[0m\u001b[0m\n",
      "\u001b[0;32m~/.local/lib/python3.5/site-packages/networkx/generators/directed.py\u001b[0m in \u001b[0;36mscale_free_graph\u001b[0;34m(n, alpha, beta, gamma, delta_in, delta_out, create_using, seed)\u001b[0m\n\u001b[1;32m    279\u001b[0m             \u001b[0;31m# beta\u001b[0m\u001b[0;34m\u001b[0m\u001b[0;34m\u001b[0m\u001b[0m\n\u001b[1;32m    280\u001b[0m             \u001b[0;31m# choose v according to out-degree and delta_out\u001b[0m\u001b[0;34m\u001b[0m\u001b[0;34m\u001b[0m\u001b[0m\n\u001b[0;32m--> 281\u001b[0;31m             \u001b[0mv\u001b[0m \u001b[0;34m=\u001b[0m \u001b[0m_choose_node\u001b[0m\u001b[0;34m(\u001b[0m\u001b[0mG\u001b[0m\u001b[0;34m,\u001b[0m \u001b[0mG\u001b[0m\u001b[0;34m.\u001b[0m\u001b[0mout_degree\u001b[0m\u001b[0;34m(\u001b[0m\u001b[0;34m)\u001b[0m\u001b[0;34m,\u001b[0m \u001b[0mdelta_out\u001b[0m\u001b[0;34m,\u001b[0m \u001b[0mpsum_out\u001b[0m\u001b[0;34m)\u001b[0m\u001b[0;34m\u001b[0m\u001b[0m\n\u001b[0m\u001b[1;32m    282\u001b[0m             \u001b[0;31m# choose w according to in-degree and delta_in\u001b[0m\u001b[0;34m\u001b[0m\u001b[0;34m\u001b[0m\u001b[0m\n\u001b[1;32m    283\u001b[0m             \u001b[0mw\u001b[0m \u001b[0;34m=\u001b[0m \u001b[0m_choose_node\u001b[0m\u001b[0;34m(\u001b[0m\u001b[0mG\u001b[0m\u001b[0;34m,\u001b[0m \u001b[0mG\u001b[0m\u001b[0;34m.\u001b[0m\u001b[0min_degree\u001b[0m\u001b[0;34m(\u001b[0m\u001b[0;34m)\u001b[0m\u001b[0;34m,\u001b[0m \u001b[0mdelta_in\u001b[0m\u001b[0;34m,\u001b[0m \u001b[0mpsum_in\u001b[0m\u001b[0;34m)\u001b[0m\u001b[0;34m\u001b[0m\u001b[0m\n",
      "\u001b[0;32m~/.local/lib/python3.5/site-packages/networkx/generators/directed.py\u001b[0m in \u001b[0;36m_choose_node\u001b[0;34m(G, distribution, delta, psum)\u001b[0m\n\u001b[1;32m    239\u001b[0m         \u001b[0;31m# normalization\u001b[0m\u001b[0;34m\u001b[0m\u001b[0;34m\u001b[0m\u001b[0m\n\u001b[1;32m    240\u001b[0m         \u001b[0mr\u001b[0m \u001b[0;34m=\u001b[0m \u001b[0mseed\u001b[0m\u001b[0;34m.\u001b[0m\u001b[0mrandom\u001b[0m\u001b[0;34m(\u001b[0m\u001b[0;34m)\u001b[0m\u001b[0;34m\u001b[0m\u001b[0m\n\u001b[0;32m--> 241\u001b[0;31m         \u001b[0;32mfor\u001b[0m \u001b[0mn\u001b[0m\u001b[0;34m,\u001b[0m \u001b[0md\u001b[0m \u001b[0;32min\u001b[0m \u001b[0mdistribution\u001b[0m\u001b[0;34m:\u001b[0m\u001b[0;34m\u001b[0m\u001b[0m\n\u001b[0m\u001b[1;32m    242\u001b[0m             \u001b[0mcumsum\u001b[0m \u001b[0;34m+=\u001b[0m \u001b[0;34m(\u001b[0m\u001b[0md\u001b[0m \u001b[0;34m+\u001b[0m \u001b[0mdelta\u001b[0m\u001b[0;34m)\u001b[0m \u001b[0;34m/\u001b[0m \u001b[0mpsum\u001b[0m\u001b[0;34m\u001b[0m\u001b[0m\n\u001b[1;32m    243\u001b[0m             \u001b[0;32mif\u001b[0m \u001b[0mr\u001b[0m \u001b[0;34m<\u001b[0m \u001b[0mcumsum\u001b[0m\u001b[0;34m:\u001b[0m\u001b[0;34m\u001b[0m\u001b[0m\n",
      "\u001b[0;32m~/.local/lib/python3.5/site-packages/networkx/classes/reportviews.py\u001b[0m in \u001b[0;36m__iter__\u001b[0;34m(self)\u001b[0m\n\u001b[1;32m    615\u001b[0m             \u001b[0;32mfor\u001b[0m \u001b[0mn\u001b[0m \u001b[0;32min\u001b[0m \u001b[0mself\u001b[0m\u001b[0;34m.\u001b[0m\u001b[0m_nodes\u001b[0m\u001b[0;34m:\u001b[0m\u001b[0;34m\u001b[0m\u001b[0m\n\u001b[1;32m    616\u001b[0m                 \u001b[0mnbrs\u001b[0m \u001b[0;34m=\u001b[0m \u001b[0mself\u001b[0m\u001b[0;34m.\u001b[0m\u001b[0m_succ\u001b[0m\u001b[0;34m[\u001b[0m\u001b[0mn\u001b[0m\u001b[0;34m]\u001b[0m\u001b[0;34m\u001b[0m\u001b[0m\n\u001b[0;32m--> 617\u001b[0;31m                 \u001b[0mdeg\u001b[0m \u001b[0;34m=\u001b[0m \u001b[0msum\u001b[0m\u001b[0;34m(\u001b[0m\u001b[0mlen\u001b[0m\u001b[0;34m(\u001b[0m\u001b[0mdata\u001b[0m\u001b[0;34m)\u001b[0m \u001b[0;32mfor\u001b[0m \u001b[0mdata\u001b[0m \u001b[0;32min\u001b[0m \u001b[0mnbrs\u001b[0m\u001b[0;34m.\u001b[0m\u001b[0mvalues\u001b[0m\u001b[0;34m(\u001b[0m\u001b[0;34m)\u001b[0m\u001b[0;34m)\u001b[0m\u001b[0;34m\u001b[0m\u001b[0m\n\u001b[0m\u001b[1;32m    618\u001b[0m                 \u001b[0;32myield\u001b[0m \u001b[0;34m(\u001b[0m\u001b[0mn\u001b[0m\u001b[0;34m,\u001b[0m \u001b[0mdeg\u001b[0m\u001b[0;34m)\u001b[0m\u001b[0;34m\u001b[0m\u001b[0m\n\u001b[1;32m    619\u001b[0m         \u001b[0;32melse\u001b[0m\u001b[0;34m:\u001b[0m\u001b[0;34m\u001b[0m\u001b[0m\n",
      "\u001b[0;32m~/.local/lib/python3.5/site-packages/networkx/classes/reportviews.py\u001b[0m in \u001b[0;36m<genexpr>\u001b[0;34m(.0)\u001b[0m\n\u001b[1;32m    615\u001b[0m             \u001b[0;32mfor\u001b[0m \u001b[0mn\u001b[0m \u001b[0;32min\u001b[0m \u001b[0mself\u001b[0m\u001b[0;34m.\u001b[0m\u001b[0m_nodes\u001b[0m\u001b[0;34m:\u001b[0m\u001b[0;34m\u001b[0m\u001b[0m\n\u001b[1;32m    616\u001b[0m                 \u001b[0mnbrs\u001b[0m \u001b[0;34m=\u001b[0m \u001b[0mself\u001b[0m\u001b[0;34m.\u001b[0m\u001b[0m_succ\u001b[0m\u001b[0;34m[\u001b[0m\u001b[0mn\u001b[0m\u001b[0;34m]\u001b[0m\u001b[0;34m\u001b[0m\u001b[0m\n\u001b[0;32m--> 617\u001b[0;31m                 \u001b[0mdeg\u001b[0m \u001b[0;34m=\u001b[0m \u001b[0msum\u001b[0m\u001b[0;34m(\u001b[0m\u001b[0mlen\u001b[0m\u001b[0;34m(\u001b[0m\u001b[0mdata\u001b[0m\u001b[0;34m)\u001b[0m \u001b[0;32mfor\u001b[0m \u001b[0mdata\u001b[0m \u001b[0;32min\u001b[0m \u001b[0mnbrs\u001b[0m\u001b[0;34m.\u001b[0m\u001b[0mvalues\u001b[0m\u001b[0;34m(\u001b[0m\u001b[0;34m)\u001b[0m\u001b[0;34m)\u001b[0m\u001b[0;34m\u001b[0m\u001b[0m\n\u001b[0m\u001b[1;32m    618\u001b[0m                 \u001b[0;32myield\u001b[0m \u001b[0;34m(\u001b[0m\u001b[0mn\u001b[0m\u001b[0;34m,\u001b[0m \u001b[0mdeg\u001b[0m\u001b[0;34m)\u001b[0m\u001b[0;34m\u001b[0m\u001b[0m\n\u001b[1;32m    619\u001b[0m         \u001b[0;32melse\u001b[0m\u001b[0;34m:\u001b[0m\u001b[0;34m\u001b[0m\u001b[0m\n",
      "\u001b[0;31mKeyboardInterrupt\u001b[0m: "
     ]
    }
   ],
   "source": [
    "G = nx.connected_watts_strogatz_graph(N,k,p) # Small-world network\n",
    "G2 = nx.scale_free_graph(N)                  # Scale free\n",
    "\n",
    "init_distr = np.random.choice(N, int(round(N*init_inf)), replace=False) #Initial infected nodes\n",
    "\n",
    "inf = int(round(N*init_inf))\n",
    "\n",
    "G = color_edges(G)\n",
    "G2 = color_edges(G2)\n",
    "\n",
    "nextstate = np.zeros(N) # 0 is blue, 1 is red\n",
    "inf_t =np.array([100*inf/N]) # infected at time t\n",
    "\n",
    "inf2=int(round(N*init_inf))\n",
    "inf_t2 =np.array([100*inf2/N]) \n",
    "\n",
    "G, inf, inf_t = evolve(G,inf,inf_t)                      \n",
    "G2, inf2, inf_t2 = evolve(G2,inf2,inf_t2)\n",
    "\n",
    "if inf<threshold_down:\n",
    "    print(\"For small-world, the disease was wiped out and the infection level is {}%. The evolution here follows an SIR model with no recovery\".format(round(100*inf/N,2)))\n",
    "if inf>threshold_up:\n",
    "    print(\"For small-world, the disease won and the infection level is {}%. The evolution here follows an SIR model with no recovery\".format(round(100*inf/N,2)) )\n",
    "\n",
    "plt.plot(inf_t)\n",
    "plt.show()\n",
    "\n",
    "if inf<threshold_down:\n",
    "    print(\"For Scale free, the disease was wiped out and the infection level is {}%. The evolution here follows an SIR model with no recovery\".format(round(100*inf2/N,2)) )\n",
    "if inf>threshold_up:\n",
    "    print(\"For Scale free, the disease won and the infection level is {}%. The evolution here follows an SIR model with no recovery\".format(round(100*inf2/N,2)) )\n",
    "\n",
    "plt.plot(inf_t2)\n",
    "plt.show()"
   ]
  },
  {
   "cell_type": "markdown",
   "metadata": {},
   "source": [
    "This is expected since the recovery rate is much lower than the infection rate, there is essentially no way for the dissease to slow down.\n",
    "\n",
    "We shall continue looking at the ones where we introduce immunity."
   ]
  },
  {
   "cell_type": "markdown",
   "metadata": {},
   "source": [
    "# Behaviour of dissease for infection with recovery"
   ]
  },
  {
   "cell_type": "code",
   "execution_count": null,
   "metadata": {},
   "outputs": [],
   "source": [
    "F = nx.connected_watts_strogatz_graph(N,k,p) \n",
    "\n",
    "color_edges(F)\n",
    "    \n",
    "inf = int(round(N*init_inf))\n",
    "inf_t_immune = np.array([100*inf/N])\n",
    "\n",
    "F2 = nx.scale_free_graph(N)\n",
    "\n",
    "color_edges(F2)\n",
    "    \n",
    "inf2 = int(round(N*init_inf))\n",
    "inf_t_immune2 = np.array([100*inf2/N])\n",
    "\n",
    "F, inf, inf_t_immune = evolve_with_immunity(F, inf, inf_t_immune)\n",
    "\n",
    "F2, inf2, inf_t_immune2 = evolve_with_immunity(F2, inf2, inf_t_immune2)\n",
    "    \n",
    "\n",
    "if inf<threshold_down:\n",
    "    print(\"The disease was wiped out and the infection level is {}%. Here we take SIR with both infection and recovery.\".format(round(100*inf/N,2)) )\n",
    "if inf>threshold_up:\n",
    "    print(\"The disease won and the infection level is {}%. Here we take SIR with both infection and recovery.\".format(round(100*inf/N,2)) )\n",
    "    \n",
    "plt.plot(inf_t_immune)\n",
    "plt.show()\n",
    "\n",
    "if inf2<threshold_down:\n",
    "    print(\"For Scale free, the disease was wiped out and the infection level is {}% . Here we take SIR with both infection and recovery.\".format(round(100*inf2/N,2)) )\n",
    "if inf2>threshold_up:\n",
    "    print(\"For Scale free, the disease won and the infection level is {}%. Here we take SIR with both infection and recovery.\".format(round(100*inf2/N,2)) )\n",
    "\n",
    "plt.plot(inf_t_immune2)\n",
    "plt.show()"
   ]
  },
  {
   "cell_type": "markdown",
   "metadata": {},
   "source": [
    "Now consider a model where the infection rate of an individual depends on the proportion od neighbours infected. Treat both, being red and being blue as infection states. This means, if an individual is red, then we look at the proportion of neighbours that are blue to calculate the switch rate. Similarly for blue individuals. Note, even if a node is blue and all its neighbours are red (or vice-versa) there is still a possibility of the individual to remain blue (This should reflect the fact that changing opinions is difficult). We do however want that if a blue individual is connected to only blue neighbours, the probability of becomming radicalized is 0. We shall assume first that the infection rate of red (radical ideas) is higher than blue, so that it makes sense to talk about an idea to be successful, otherwise it is obvious that blue would win if the starting percentage of red is around 3% as reffered in the paper.\n",
    "\n",
    "We consider no Immunity."
   ]
  },
  {
   "cell_type": "markdown",
   "metadata": {},
   "source": [
    "# Behaviour of disease with neighbour dependent infection rate"
   ]
  },
  {
   "cell_type": "code",
   "execution_count": null,
   "metadata": {},
   "outputs": [],
   "source": [
    "H = nx.connected_watts_strogatz_graph(N,k,p) \n",
    "\n",
    "color_edges(H)\n",
    "    \n",
    "inf = int(round(N*init_inf))\n",
    "inf_t = np.array([100*inf/N])\n",
    "\n",
    "I = 0.5 #at maximum red neighbours this is the flipping rate for blue\n",
    "R = 0.3 #at maximum blue neighbours this is the flipping rate for red\n",
    "\n",
    "H2 = nx.scale_free_graph(N)\n",
    "\n",
    "color_edges(H2)\n",
    "    \n",
    "inf2 = int(round(N*init_inf))\n",
    "inf_t2 = np.array([100*inf2/N])\n",
    "nextstate = np.zeros(N)\n",
    "nextstate2 = np.zeros(N)\n",
    "\n",
    "H,inf, inf_t = evolve_neighbour_dependent(H,inf, inf_t)\n",
    "H2, inf2, inf_t2 = evolve_neighbour_dependent(H2, inf2, inf_t2)\n",
    "\n",
    "if inf<threshold_down:\n",
    "    print(\"The disease was wiped out and the infection level is {}%. Here the rate at which vertices get infected depends on the proportion of infected neighbours.\".format(round(100*inf/N,2)) )\n",
    "if inf>threshold_up:\n",
    "    print(\"The disease won and the infection level is {}%. Here the rate at which vertices get infected depends on the proportion of infected neighbours.\".format(round(100*inf/N,2)) )\n",
    "    \n",
    "plt.plot(inf_t)\n",
    "plt.show()\n",
    "\n",
    "if inf2<threshold_down:\n",
    "    print(\"For Scale free, the disease was wiped out and the infection level is {}%. Here the rate at which vertices get infected depends on the proportion of infected neighbours.\".format(round(100*inf2/N,2)) )\n",
    "if inf2>threshold_up:\n",
    "    print(\"For Scale free, the disease won and the infection level is {}%. Here the rate at which vertices get infected depends on the proportion of infected neighbours.\".format(round(100*inf2/N,2)) )\n",
    "\n",
    "plt.plot(inf_t2)\n",
    "plt.show()"
   ]
  },
  {
   "cell_type": "markdown",
   "metadata": {},
   "source": [
    "# GNP random Graph with fixed infection and recovery rate"
   ]
  },
  {
   "cell_type": "code",
   "execution_count": null,
   "metadata": {},
   "outputs": [],
   "source": [
    "p = 2*log(N)/N\n",
    "Gnp = nx.gnp_random_graph(N,p)\n",
    "\n",
    "color_edges(Gnp)\n",
    "\n",
    "inf = int(round(N*init_inf))\n",
    "inf_t = np.array([100*inf/N])\n",
    "\n",
    "Gnp, inf, inf_t = evolve_with_immunity(Gnp, inf, inf_t)\n",
    "\n",
    "if inf<threshold_down:\n",
    "    print(\"The disease was wiped out and the infection level is {}%. Basic SIR with immunity.\".format(round(100*inf/N,2)) )\n",
    "if inf>threshold_up:\n",
    "    print(\"The disease won and the infection level is {}%. Basic SIR with immunity\".format(round(100*inf/N,2)) )\n",
    "    \n",
    "plt.plot(inf_t)\n",
    "plt.show()"
   ]
  },
  {
   "cell_type": "markdown",
   "metadata": {},
   "source": [
    "# GNP random Graph with neighbour dependent infection and recovery rate"
   ]
  },
  {
   "cell_type": "code",
   "execution_count": null,
   "metadata": {},
   "outputs": [],
   "source": [
    "color_edges(Gnp)\n",
    "\n",
    "inf = int(round(N*init_inf))\n",
    "inf_t = np.array([100*inf/N])\n",
    "\n",
    "Gnp, inf, inf_t = evolve_variable_rate(Gnp, inf, inf_t)\n",
    "\n",
    "if inf<threshold_down:\n",
    "    print(\"The disease was wiped out and the infection level is {}%. Neighbour dependent rate.\".format(round(100*inf/N,2)) )\n",
    "if inf>threshold_up:\n",
    "    print(\"The disease won and the infection level is {}%. Neighbour dependent rate.\".format(round(100*inf/N,2)) )\n",
    "    \n",
    "plt.plot(inf_t)\n",
    "plt.show()"
   ]
  },
  {
   "cell_type": "markdown",
   "metadata": {},
   "source": [
    "## Running several different initial infection rates for Wattz-Stogatz"
   ]
  },
  {
   "cell_type": "code",
   "execution_count": 10,
   "metadata": {},
   "outputs": [],
   "source": [
    "N = 10000\n",
    "k = 5 # on average the number of friends one has\n",
    "p = 0.4 # probability of rewiring in the Wats-Strogatz algorithm\n",
    "\n",
    "array_init = np.array([3.75, 4])\n",
    "\n",
    "threshold_up = int(0.5*N) # when the disease is successful\n",
    "threshold_down = int(0.001*N) # when it dies off"
   ]
  },
  {
   "cell_type": "code",
   "execution_count": null,
   "metadata": {},
   "outputs": [],
   "source": [
    "for i in array_init:\n",
    "    H = nx.connected_watts_strogatz_graph(N,k,p) \n",
    "    init_distr = np.random.choice(N, int(round(N*i/100)), replace=False) #Initial infected nodes\n",
    "    color_edges(H)\n",
    "    \n",
    "    inf = int(round(N*i/100))\n",
    "    inf_t = np.array([100*inf/N])\n",
    "\n",
    "    I = 0.3 #at maximum red neighbours this is the flipping rate for blue\n",
    "    R = 0.25 #at maximum blue neighbours this is the flipping rate for red\n",
    "    \n",
    "    H,inf, inf_t = evolve_neighbour_dependent(H,inf, inf_t)\n",
    "    \n",
    "    if inf<threshold_down:\n",
    "        print(\"At starting infection level {}%, the disease was wiped out and the \\\n",
    "        infection level is {}\".format(i ,round(inf/N,2)) )\n",
    "    if inf>threshold_up:\n",
    "        print(\"At starting infection level {}%, the disease won and the infection \\\n",
    "        level is {}%\".format(i, round(100*inf/N,2)) )\n",
    "    \n",
    "    plt.plot(inf_t)\n",
    "    plt.show()\n",
    "    \n",
    "    "
   ]
  },
  {
   "cell_type": "markdown",
   "metadata": {},
   "source": [
    "# Running several different initial infection rates for Scale free"
   ]
  },
  {
   "cell_type": "code",
   "execution_count": 11,
   "metadata": {},
   "outputs": [
    {
     "data": {
      "image/png": "[encoded data removed]",
      "text/plain": [
       "<Figure size 432x288 with 1 Axes>"
      ]
     },
     "metadata": {
      "needs_background": "light"
     },
     "output_type": "display_data"
    },
    {
     "data": {
      "image/png": "[encoded data removed]",
      "text/plain": [
       "<Figure size 432x288 with 1 Axes>"
      ]
     },
     "metadata": {
      "needs_background": "light"
     },
     "output_type": "display_data"
    }
   ],
   "source": [
    "for i in array_init:\n",
    "    H = nx.scale_free_graph(N)\n",
    "    init_distr = np.random.choice(N, int(round(N*i/100)), replace=False) #Initial infected nodes\n",
    "    color_edges(H)\n",
    "    \n",
    "    inf = int(round(N*i/100))\n",
    "    inf_t = np.array([100*inf/N])\n",
    "\n",
    "    I = 0.3 #at maximum red neighbours this is the flipping rate for blue\n",
    "    R = 0.25 #at maximum blue neighbours this is the flipping rate for red\n",
    "    \n",
    "    H,inf, inf_t = evolve_neighbour_dependent(H,inf, inf_t)\n",
    "    \n",
    "    if inf<threshold_down:\n",
    "        print(\"At starting infection level {}%, the disease was wiped out and the \\\n",
    "        infection level is {}\".format(i ,round(inf/N,2)) )\n",
    "    if inf>threshold_up:\n",
    "        print(\"At starting infection level {}%, the disease won and the infection \\\n",
    "        level is {}%\".format(i, round(100*inf/N,2)) )\n",
    "    \n",
    "    plt.plot(inf_t)\n",
    "    plt.show()"
   ]
  },
  {
   "cell_type": "code",
   "execution_count": null,
   "metadata": {},
   "outputs": [],
   "source": []
  }
 ],
 "metadata": {
  "kernelspec": {
   "display_name": "Python 3",
   "language": "python",
   "name": "python3"
  }
 },
 "nbformat": 4,
 "nbformat_minor": 4
}
