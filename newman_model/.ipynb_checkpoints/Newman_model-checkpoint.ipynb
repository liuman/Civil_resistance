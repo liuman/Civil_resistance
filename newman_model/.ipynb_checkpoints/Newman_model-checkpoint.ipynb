{
 "cells": [
  {
   "cell_type": "code",
   "execution_count": 77,
   "metadata": {},
   "outputs": [],
   "source": [
    "import networkx as nx\n",
    "import numpy as np\n",
    "import matplotlib.pyplot as plt\n",
    "from math import log"
   ]
  },
  {
   "cell_type": "code",
   "execution_count": 78,
   "metadata": {},
   "outputs": [],
   "source": [
    "N = 10000\n",
    "T = np.arange(0,1,0.05)"
   ]
  },
  {
   "cell_type": "code",
   "execution_count": 79,
   "metadata": {},
   "outputs": [
    {
     "ename": "KeyboardInterrupt",
     "evalue": "",
     "output_type": "error",
     "traceback": [
      "\u001b[0;31m---------------------------------------------------------------------------\u001b[0m",
      "\u001b[0;31mKeyboardInterrupt\u001b[0m                         Traceback (most recent call last)",
      "\u001b[0;32m<ipython-input-79-93f925c8375c>\u001b[0m in \u001b[0;36m<module>\u001b[0;34m\u001b[0m\n\u001b[1;32m      5\u001b[0m     \u001b[0mtemp\u001b[0m \u001b[0;34m=\u001b[0m \u001b[0;36m0\u001b[0m\u001b[0;34m\u001b[0m\u001b[0;34m\u001b[0m\u001b[0m\n\u001b[1;32m      6\u001b[0m     \u001b[0;32mfor\u001b[0m \u001b[0mk\u001b[0m \u001b[0;32min\u001b[0m \u001b[0mrange\u001b[0m\u001b[0;34m(\u001b[0m\u001b[0;36m50\u001b[0m\u001b[0;34m)\u001b[0m\u001b[0;34m:\u001b[0m\u001b[0;34m\u001b[0m\u001b[0;34m\u001b[0m\u001b[0m\n\u001b[0;32m----> 7\u001b[0;31m         \u001b[0mG\u001b[0m \u001b[0;34m=\u001b[0m \u001b[0mnx\u001b[0m\u001b[0;34m.\u001b[0m\u001b[0mscale_free_graph\u001b[0m\u001b[0;34m(\u001b[0m\u001b[0mN\u001b[0m\u001b[0;34m)\u001b[0m\u001b[0;34m\u001b[0m\u001b[0;34m\u001b[0m\u001b[0m\n\u001b[0m\u001b[1;32m      8\u001b[0m         \u001b[0mremove\u001b[0m \u001b[0;34m=\u001b[0m\u001b[0mlist\u001b[0m\u001b[0;34m(\u001b[0m\u001b[0;34m)\u001b[0m\u001b[0;34m\u001b[0m\u001b[0;34m\u001b[0m\u001b[0m\n\u001b[1;32m      9\u001b[0m         \u001b[0mF\u001b[0m\u001b[0;34m=\u001b[0m\u001b[0mnx\u001b[0m\u001b[0;34m.\u001b[0m\u001b[0mGraph\u001b[0m\u001b[0;34m(\u001b[0m\u001b[0;34m)\u001b[0m\u001b[0;34m\u001b[0m\u001b[0;34m\u001b[0m\u001b[0m\n",
      "\u001b[0;32m</Library/Frameworks/Python.framework/Versions/3.7/lib/python3.7/site-packages/decorator.py:decorator-gen-185>\u001b[0m in \u001b[0;36mscale_free_graph\u001b[0;34m(n, alpha, beta, gamma, delta_in, delta_out, create_using, seed)\u001b[0m\n",
      "\u001b[0;32m/Library/Frameworks/Python.framework/Versions/3.7/lib/python3.7/site-packages/networkx/utils/decorators.py\u001b[0m in \u001b[0;36m_random_state\u001b[0;34m(func, *args, **kwargs)\u001b[0m\n\u001b[1;32m    462\u001b[0m         \u001b[0mnew_args\u001b[0m \u001b[0;34m=\u001b[0m \u001b[0mlist\u001b[0m\u001b[0;34m(\u001b[0m\u001b[0margs\u001b[0m\u001b[0;34m)\u001b[0m\u001b[0;34m\u001b[0m\u001b[0;34m\u001b[0m\u001b[0m\n\u001b[1;32m    463\u001b[0m         \u001b[0mnew_args\u001b[0m\u001b[0;34m[\u001b[0m\u001b[0mrandom_state_index\u001b[0m\u001b[0;34m]\u001b[0m \u001b[0;34m=\u001b[0m \u001b[0mrandom_state\u001b[0m\u001b[0;34m\u001b[0m\u001b[0;34m\u001b[0m\u001b[0m\n\u001b[0;32m--> 464\u001b[0;31m         \u001b[0;32mreturn\u001b[0m \u001b[0mfunc\u001b[0m\u001b[0;34m(\u001b[0m\u001b[0;34m*\u001b[0m\u001b[0mnew_args\u001b[0m\u001b[0;34m,\u001b[0m \u001b[0;34m**\u001b[0m\u001b[0mkwargs\u001b[0m\u001b[0;34m)\u001b[0m\u001b[0;34m\u001b[0m\u001b[0;34m\u001b[0m\u001b[0m\n\u001b[0m\u001b[1;32m    465\u001b[0m     \u001b[0;32mreturn\u001b[0m \u001b[0m_random_state\u001b[0m\u001b[0;34m\u001b[0m\u001b[0;34m\u001b[0m\u001b[0m\n",
      "\u001b[0;32m/Library/Frameworks/Python.framework/Versions/3.7/lib/python3.7/site-packages/networkx/generators/directed.py\u001b[0m in \u001b[0;36mscale_free_graph\u001b[0;34m(n, alpha, beta, gamma, delta_in, delta_out, create_using, seed)\u001b[0m\n\u001b[1;32m    275\u001b[0m             \u001b[0mv\u001b[0m \u001b[0;34m=\u001b[0m \u001b[0mlen\u001b[0m\u001b[0;34m(\u001b[0m\u001b[0mG\u001b[0m\u001b[0;34m)\u001b[0m\u001b[0;34m\u001b[0m\u001b[0;34m\u001b[0m\u001b[0m\n\u001b[1;32m    276\u001b[0m             \u001b[0;31m# choose w according to in-degree and delta_in\u001b[0m\u001b[0;34m\u001b[0m\u001b[0;34m\u001b[0m\u001b[0;34m\u001b[0m\u001b[0m\n\u001b[0;32m--> 277\u001b[0;31m             \u001b[0mw\u001b[0m \u001b[0;34m=\u001b[0m \u001b[0m_choose_node\u001b[0m\u001b[0;34m(\u001b[0m\u001b[0mG\u001b[0m\u001b[0;34m,\u001b[0m \u001b[0mG\u001b[0m\u001b[0;34m.\u001b[0m\u001b[0min_degree\u001b[0m\u001b[0;34m(\u001b[0m\u001b[0;34m)\u001b[0m\u001b[0;34m,\u001b[0m \u001b[0mdelta_in\u001b[0m\u001b[0;34m,\u001b[0m \u001b[0mpsum_in\u001b[0m\u001b[0;34m)\u001b[0m\u001b[0;34m\u001b[0m\u001b[0;34m\u001b[0m\u001b[0m\n\u001b[0m\u001b[1;32m    278\u001b[0m         \u001b[0;32melif\u001b[0m \u001b[0mr\u001b[0m \u001b[0;34m<\u001b[0m \u001b[0malpha\u001b[0m \u001b[0;34m+\u001b[0m \u001b[0mbeta\u001b[0m\u001b[0;34m:\u001b[0m\u001b[0;34m\u001b[0m\u001b[0;34m\u001b[0m\u001b[0m\n\u001b[1;32m    279\u001b[0m             \u001b[0;31m# beta\u001b[0m\u001b[0;34m\u001b[0m\u001b[0;34m\u001b[0m\u001b[0;34m\u001b[0m\u001b[0m\n",
      "\u001b[0;32m/Library/Frameworks/Python.framework/Versions/3.7/lib/python3.7/site-packages/networkx/generators/directed.py\u001b[0m in \u001b[0;36m_choose_node\u001b[0;34m(G, distribution, delta, psum)\u001b[0m\n\u001b[1;32m    239\u001b[0m         \u001b[0;31m# normalization\u001b[0m\u001b[0;34m\u001b[0m\u001b[0;34m\u001b[0m\u001b[0;34m\u001b[0m\u001b[0m\n\u001b[1;32m    240\u001b[0m         \u001b[0mr\u001b[0m \u001b[0;34m=\u001b[0m \u001b[0mseed\u001b[0m\u001b[0;34m.\u001b[0m\u001b[0mrandom\u001b[0m\u001b[0;34m(\u001b[0m\u001b[0;34m)\u001b[0m\u001b[0;34m\u001b[0m\u001b[0;34m\u001b[0m\u001b[0m\n\u001b[0;32m--> 241\u001b[0;31m         \u001b[0;32mfor\u001b[0m \u001b[0mn\u001b[0m\u001b[0;34m,\u001b[0m \u001b[0md\u001b[0m \u001b[0;32min\u001b[0m \u001b[0mdistribution\u001b[0m\u001b[0;34m:\u001b[0m\u001b[0;34m\u001b[0m\u001b[0;34m\u001b[0m\u001b[0m\n\u001b[0m\u001b[1;32m    242\u001b[0m             \u001b[0mcumsum\u001b[0m \u001b[0;34m+=\u001b[0m \u001b[0;34m(\u001b[0m\u001b[0md\u001b[0m \u001b[0;34m+\u001b[0m \u001b[0mdelta\u001b[0m\u001b[0;34m)\u001b[0m \u001b[0;34m/\u001b[0m \u001b[0mpsum\u001b[0m\u001b[0;34m\u001b[0m\u001b[0;34m\u001b[0m\u001b[0m\n\u001b[1;32m    243\u001b[0m             \u001b[0;32mif\u001b[0m \u001b[0mr\u001b[0m \u001b[0;34m<\u001b[0m \u001b[0mcumsum\u001b[0m\u001b[0;34m:\u001b[0m\u001b[0;34m\u001b[0m\u001b[0;34m\u001b[0m\u001b[0m\n",
      "\u001b[0;32m/Library/Frameworks/Python.framework/Versions/3.7/lib/python3.7/site-packages/networkx/classes/reportviews.py\u001b[0m in \u001b[0;36m__iter__\u001b[0;34m(self)\u001b[0m\n\u001b[1;32m    588\u001b[0m             \u001b[0;32mfor\u001b[0m \u001b[0mn\u001b[0m \u001b[0;32min\u001b[0m \u001b[0mself\u001b[0m\u001b[0;34m.\u001b[0m\u001b[0m_nodes\u001b[0m\u001b[0;34m:\u001b[0m\u001b[0;34m\u001b[0m\u001b[0;34m\u001b[0m\u001b[0m\n\u001b[1;32m    589\u001b[0m                 \u001b[0mnbrs\u001b[0m \u001b[0;34m=\u001b[0m \u001b[0mself\u001b[0m\u001b[0;34m.\u001b[0m\u001b[0m_pred\u001b[0m\u001b[0;34m[\u001b[0m\u001b[0mn\u001b[0m\u001b[0;34m]\u001b[0m\u001b[0;34m\u001b[0m\u001b[0;34m\u001b[0m\u001b[0m\n\u001b[0;32m--> 590\u001b[0;31m                 \u001b[0mdeg\u001b[0m \u001b[0;34m=\u001b[0m \u001b[0msum\u001b[0m\u001b[0;34m(\u001b[0m\u001b[0mlen\u001b[0m\u001b[0;34m(\u001b[0m\u001b[0mdata\u001b[0m\u001b[0;34m)\u001b[0m \u001b[0;32mfor\u001b[0m \u001b[0mdata\u001b[0m \u001b[0;32min\u001b[0m \u001b[0mnbrs\u001b[0m\u001b[0;34m.\u001b[0m\u001b[0mvalues\u001b[0m\u001b[0;34m(\u001b[0m\u001b[0;34m)\u001b[0m\u001b[0;34m)\u001b[0m\u001b[0;34m\u001b[0m\u001b[0;34m\u001b[0m\u001b[0m\n\u001b[0m\u001b[1;32m    591\u001b[0m                 \u001b[0;32myield\u001b[0m \u001b[0;34m(\u001b[0m\u001b[0mn\u001b[0m\u001b[0;34m,\u001b[0m \u001b[0mdeg\u001b[0m\u001b[0;34m)\u001b[0m\u001b[0;34m\u001b[0m\u001b[0;34m\u001b[0m\u001b[0m\n\u001b[1;32m    592\u001b[0m         \u001b[0;32melse\u001b[0m\u001b[0;34m:\u001b[0m\u001b[0;34m\u001b[0m\u001b[0;34m\u001b[0m\u001b[0m\n",
      "\u001b[0;32m/Library/Frameworks/Python.framework/Versions/3.7/lib/python3.7/site-packages/networkx/classes/reportviews.py\u001b[0m in \u001b[0;36m<genexpr>\u001b[0;34m(.0)\u001b[0m\n\u001b[1;32m    588\u001b[0m             \u001b[0;32mfor\u001b[0m \u001b[0mn\u001b[0m \u001b[0;32min\u001b[0m \u001b[0mself\u001b[0m\u001b[0;34m.\u001b[0m\u001b[0m_nodes\u001b[0m\u001b[0;34m:\u001b[0m\u001b[0;34m\u001b[0m\u001b[0;34m\u001b[0m\u001b[0m\n\u001b[1;32m    589\u001b[0m                 \u001b[0mnbrs\u001b[0m \u001b[0;34m=\u001b[0m \u001b[0mself\u001b[0m\u001b[0;34m.\u001b[0m\u001b[0m_pred\u001b[0m\u001b[0;34m[\u001b[0m\u001b[0mn\u001b[0m\u001b[0;34m]\u001b[0m\u001b[0;34m\u001b[0m\u001b[0;34m\u001b[0m\u001b[0m\n\u001b[0;32m--> 590\u001b[0;31m                 \u001b[0mdeg\u001b[0m \u001b[0;34m=\u001b[0m \u001b[0msum\u001b[0m\u001b[0;34m(\u001b[0m\u001b[0mlen\u001b[0m\u001b[0;34m(\u001b[0m\u001b[0mdata\u001b[0m\u001b[0;34m)\u001b[0m \u001b[0;32mfor\u001b[0m \u001b[0mdata\u001b[0m \u001b[0;32min\u001b[0m \u001b[0mnbrs\u001b[0m\u001b[0;34m.\u001b[0m\u001b[0mvalues\u001b[0m\u001b[0;34m(\u001b[0m\u001b[0;34m)\u001b[0m\u001b[0;34m)\u001b[0m\u001b[0;34m\u001b[0m\u001b[0;34m\u001b[0m\u001b[0m\n\u001b[0m\u001b[1;32m    591\u001b[0m                 \u001b[0;32myield\u001b[0m \u001b[0;34m(\u001b[0m\u001b[0mn\u001b[0m\u001b[0;34m,\u001b[0m \u001b[0mdeg\u001b[0m\u001b[0;34m)\u001b[0m\u001b[0;34m\u001b[0m\u001b[0;34m\u001b[0m\u001b[0m\n\u001b[1;32m    592\u001b[0m         \u001b[0;32melse\u001b[0m\u001b[0;34m:\u001b[0m\u001b[0;34m\u001b[0m\u001b[0;34m\u001b[0m\u001b[0m\n",
      "\u001b[0;31mKeyboardInterrupt\u001b[0m: "
     ]
    }
   ],
   "source": [
    "nodes = np.arange(0,N,1)\n",
    "init = 1\n",
    "s = list()\n",
    "for j in T:\n",
    "    temp = 0\n",
    "    for k in range(50):\n",
    "        G = nx.scale_free_graph(N) \n",
    "        remove =list()\n",
    "        F=nx.Graph()\n",
    "        F.add_nodes_from(nodes)\n",
    "        for i in G.edges():\n",
    "            if F.has_edge(i[0],i[1])==False:\n",
    "                F.add_edge(i[0],i[1])\n",
    "\n",
    "\n",
    "        for i in F.edges():\n",
    "            if np.random.binomial(1,T0) == 1:\n",
    "                remove.append(i)                 #can't remove right away, because G.edges() changes and it gives an error\n",
    "\n",
    "        for i in remove:\n",
    "            F.remove_edge(i[0],i[1])\n",
    "        n = np.random.choice(N,init)\n",
    "        temp += len(nx.node_connected_component(F, n[0]))/(N*50)\n",
    "    s.append(temp)"
   ]
  },
  {
   "cell_type": "code",
   "execution_count": null,
   "metadata": {},
   "outputs": [],
   "source": [
    "plt.bar(T, np.asarray(s), 'ro')\n",
    "plt.title('One infected')\n",
    "plt.xlabel('Transmisibility')\n",
    "plt.ylabel('Total size of infected components')\n",
    "plt.show()"
   ]
  },
  {
   "cell_type": "code",
   "execution_count": null,
   "metadata": {},
   "outputs": [],
   "source": [
    "nodes = np.arange(0,N,1)\n",
    "init = 0.01*N\n",
    "s = list()\n",
    "for j in T:\n",
    "    temp = 0\n",
    "    for k in range(50):\n",
    "        G = nx.scale_free_graph(N) \n",
    "        remove =list()\n",
    "        F=nx.Graph()\n",
    "        F.add_nodes_from(nodes)\n",
    "        for i in G.edges():\n",
    "            if F.has_edge(i[0],i[1])==False:\n",
    "                F.add_edge(i[0],i[1])\n",
    "\n",
    "\n",
    "        for i in F.edges():\n",
    "            if np.random.binomial(1,T0) == 1:\n",
    "                remove.append(i)                 #can't remove right away, because G.edges() changes and it gives an error\n",
    "\n",
    "        for i in remove:\n",
    "            F.remove_edge(i[0],i[1])\n",
    "        \n",
    "        n = np.random.choice(N,init)\n",
    "        comp = set()\n",
    "        for i in range(init):\n",
    "            comp = comp.union(nx.node_connected_component(F, n[i]))\n",
    "        temp =+len(comp)/(50*N)\n",
    "    \n",
    "    s.append(temp)"
   ]
  },
  {
   "cell_type": "code",
   "execution_count": null,
   "metadata": {},
   "outputs": [],
   "source": [
    "plt.bar(T, np.asarray(s), 'ro')\n",
    "plt.title('1% infected')\n",
    "plt.xlabel('Transmisibility')\n",
    "plt.ylabel('Total size of infected components')\n",
    "plt.show()"
   ]
  },
  {
   "cell_type": "code",
   "execution_count": null,
   "metadata": {},
   "outputs": [],
   "source": [
    "nodes = np.arange(0,N,1)\n",
    "init = 0.02*N\n",
    "s = list()\n",
    "for j in T:\n",
    "    temp = 0\n",
    "    for k in range(50):\n",
    "        G = nx.scale_free_graph(N) \n",
    "        remove =list()\n",
    "        F=nx.Graph()\n",
    "        F.add_nodes_from(nodes)\n",
    "        for i in G.edges():\n",
    "            if F.has_edge(i[0],i[1])==False:\n",
    "                F.add_edge(i[0],i[1])\n",
    "\n",
    "\n",
    "        for i in F.edges():\n",
    "            if np.random.binomial(1,T0) == 1:\n",
    "                remove.append(i)                 #can't remove right away, because G.edges() changes and it gives an error\n",
    "\n",
    "        for i in remove:\n",
    "            F.remove_edge(i[0],i[1])\n",
    "        \n",
    "        n = np.random.choice(N,init)\n",
    "        comp = set()\n",
    "        for i in range(init):\n",
    "            comp = comp.union(nx.node_connected_component(F, n[i]))\n",
    "        temp =+len(comp)/(50*N)\n",
    "    \n",
    "    s.append(temp)"
   ]
  },
  {
   "cell_type": "code",
   "execution_count": null,
   "metadata": {},
   "outputs": [],
   "source": [
    "plt.bar(T, np.asarray(s), 'ro')\n",
    "plt.title('2% infected')\n",
    "plt.xlabel('Transmisibility')\n",
    "plt.ylabel('Total size of infected components')\n",
    "plt.show()"
   ]
  },
  {
   "cell_type": "code",
   "execution_count": null,
   "metadata": {},
   "outputs": [],
   "source": [
    "nodes = np.arange(0,N,1)\n",
    "init = 0.03*N\n",
    "s = list()\n",
    "for j in T:\n",
    "    temp = 0\n",
    "    for k in range(50):\n",
    "        G = nx.scale_free_graph(N) \n",
    "        remove =list()\n",
    "        F=nx.Graph()\n",
    "        F.add_nodes_from(nodes)\n",
    "        for i in G.edges():\n",
    "            if F.has_edge(i[0],i[1])==False:\n",
    "                F.add_edge(i[0],i[1])\n",
    "\n",
    "\n",
    "        for i in F.edges():\n",
    "            if np.random.binomial(1,T0) == 1:\n",
    "                remove.append(i)                 #can't remove right away, because G.edges() changes and it gives an error\n",
    "\n",
    "        for i in remove:\n",
    "            F.remove_edge(i[0],i[1])\n",
    "        \n",
    "        n = np.random.choice(N,init)\n",
    "        comp = set()\n",
    "        for i in range(init):\n",
    "            comp = comp.union(nx.node_connected_component(F, n[i]))\n",
    "        temp =+len(comp)/(50*N)\n",
    "    \n",
    "    s.append(temp)"
   ]
  },
  {
   "cell_type": "code",
   "execution_count": null,
   "metadata": {},
   "outputs": [],
   "source": [
    "plt.bar(T, np.asarray(s), 'ro')\n",
    "plt.title('3% infected')\n",
    "plt.xlabel('Transmisibility')\n",
    "plt.ylabel('Total size of infected components')\n",
    "plt.show()"
   ]
  },
  {
   "cell_type": "code",
   "execution_count": null,
   "metadata": {},
   "outputs": [],
   "source": [
    "nodes = np.arange(0,N,1)\n",
    "init = 0.035*N\n",
    "s = list()\n",
    "for j in T:\n",
    "    temp = 0\n",
    "    for k in range(50):\n",
    "        G = nx.scale_free_graph(N) \n",
    "        remove =list()\n",
    "        F=nx.Graph()\n",
    "        F.add_nodes_from(nodes)\n",
    "        for i in G.edges():\n",
    "            if F.has_edge(i[0],i[1])==False:\n",
    "                F.add_edge(i[0],i[1])\n",
    "\n",
    "\n",
    "        for i in F.edges():\n",
    "            if np.random.binomial(1,T0) == 1:\n",
    "                remove.append(i)                 #can't remove right away, because G.edges() changes and it gives an error\n",
    "\n",
    "        for i in remove:\n",
    "            F.remove_edge(i[0],i[1])\n",
    "        \n",
    "        n = np.random.choice(N,init)\n",
    "        comp = set()\n",
    "        for i in range(init):\n",
    "            comp = comp.union(nx.node_connected_component(F, n[i]))\n",
    "        temp =+len(comp)/(50*N)\n",
    "    \n",
    "    s.append(temp)"
   ]
  },
  {
   "cell_type": "code",
   "execution_count": null,
   "metadata": {},
   "outputs": [],
   "source": [
    "plt.bar(T, np.asarray(s), 'ro')\n",
    "plt.title('3.5% infected')\n",
    "plt.xlabel('Transmisibility')\n",
    "plt.ylabel('Total size of infected components')\n",
    "plt.show()"
   ]
  },
  {
   "cell_type": "code",
   "execution_count": null,
   "metadata": {},
   "outputs": [],
   "source": [
    "nodes = np.arange(0,N,1)\n",
    "init = 0.04*N\n",
    "s = list()\n",
    "for j in T:\n",
    "    temp = 0\n",
    "    for k in range(50):\n",
    "        G = nx.scale_free_graph(N) \n",
    "        remove =list()\n",
    "        F=nx.Graph()\n",
    "        F.add_nodes_from(nodes)\n",
    "        for i in G.edges():\n",
    "            if F.has_edge(i[0],i[1])==False:\n",
    "                F.add_edge(i[0],i[1])\n",
    "\n",
    "\n",
    "        for i in F.edges():\n",
    "            if np.random.binomial(1,T0) == 1:\n",
    "                remove.append(i)                 #can't remove right away, because G.edges() changes and it gives an error\n",
    "\n",
    "        for i in remove:\n",
    "            F.remove_edge(i[0],i[1])\n",
    "        \n",
    "        n = np.random.choice(N,init)\n",
    "        comp = set()\n",
    "        for i in range(init):\n",
    "            comp = comp.union(nx.node_connected_component(F, n[i]))\n",
    "        temp =+len(comp)/(50*N)\n",
    "    \n",
    "    s.append(temp)"
   ]
  },
  {
   "cell_type": "code",
   "execution_count": null,
   "metadata": {},
   "outputs": [],
   "source": [
    "plt.bar(T, np.asarray(s), 'ro')\n",
    "plt.title('4% infected')\n",
    "plt.xlabel('Transmisibility')\n",
    "plt.ylabel('Total size of infected components')\n",
    "plt.show()"
   ]
  }
 ],
 "metadata": {
  "kernelspec": {
   "display_name": "Python 3",
   "language": "python",
   "name": "python3"
  },
  "language_info": {
   "codemirror_mode": {
    "name": "ipython",
    "version": 3
   },
   "file_extension": ".py",
   "mimetype": "text/x-python",
   "name": "python",
   "nbconvert_exporter": "python",
   "pygments_lexer": "ipython3",
   "version": "3.7.4"
  }
 },
 "nbformat": 4,
 "nbformat_minor": 4
}
