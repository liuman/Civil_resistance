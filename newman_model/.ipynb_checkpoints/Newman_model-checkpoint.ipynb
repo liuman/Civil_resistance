{
 "cells": [
  {
   "cell_type": "code",
   "execution_count": 6,
   "metadata": {},
   "outputs": [],
   "source": [
    "import networkx as nx\n",
    "import numpy as np\n",
    "import matplotlib.pyplot as plt\n",
    "from math import log"
   ]
  },
  {
   "cell_type": "code",
   "execution_count": 7,
   "metadata": {},
   "outputs": [],
   "source": [
    "N = 10000\n",
    "T = np.arange(0,1,0.05)"
   ]
  },
  {
   "cell_type": "code",
   "execution_count": 8,
   "metadata": {},
   "outputs": [],
   "source": [
    "nodes = np.arange(0,N,1)\n",
    "init = 1\n",
    "s = list()\n",
    "for j in T:\n",
    "    temp = 0\n",
    "    for k in range(10):\n",
    "        G = nx.barabasi_albert_graph(N,1) \n",
    "        remove =list()\n",
    "\n",
    "        for i in G.edges():\n",
    "            if np.random.binomial(1,j) == 1:\n",
    "                remove.append(i)                 #can't remove right away, because G.edges() changes and it gives an error\n",
    "\n",
    "        for i in remove:\n",
    "            G.remove_edge(i[0],i[1])\n",
    "        for c in sorted(nx.connected_components(G), key=len, reverse=True):\n",
    "            temp += len(c)*len(c)/(N*10)\n",
    "    s.append(temp)"
   ]
  },
  {
   "cell_type": "code",
   "execution_count": 13,
   "metadata": {},
   "outputs": [
    {
     "data": {
      "image/png": "[encoded data removed]",
      "text/plain": [
       "<Figure size 432x288 with 1 Axes>"
      ]
     },
     "metadata": {
      "needs_background": "light"
     },
     "output_type": "display_data"
    },
    {
     "name": "stdout",
     "output_type": "stream",
     "text": [
      "[10000.0, 6348.924199999697, 3573.5190600006986, 2263.865759999942, 1786.7506799995917, 1073.6213799996362, 465.47697999973093, 398.9885199998188, 270.7606400000297, 103.25680000006436, 58.83158000003646, 50.46664000004006, 27.031079999983472, 19.97113999998181, 9.980959999988494, 5.713019999993423, 3.367460000002504, 2.1057800000022455, 1.5051200000010703, 1.1565399999993338]\n"
     ]
    }
   ],
   "source": [
    "plt.bar(T, np.asarray(s))\n",
    "plt.title('One infected')\n",
    "plt.xlabel('Transmisibility')\n",
    "plt.ylabel('Total size of infected components')\n",
    "plt.show()\n",
    "print(s)"
   ]
  },
  {
   "cell_type": "code",
   "execution_count": null,
   "metadata": {},
   "outputs": [],
   "source": [
    "nodes = np.arange(0,N,1)\n",
    "init = 0.01*N\n",
    "s = list()\n",
    "for j in T:\n",
    "    temp = 0\n",
    "    for k in range(50):\n",
    "        G = nx.barabasi_albert_graph(N,1) \n",
    "        remove =list()\n",
    "\n",
    "        for i in G.edges():\n",
    "            if np.random.binomial(1,j) == 1:\n",
    "                remove.append(i)                 #can't remove right away, because G.edges() changes and it gives an error\n",
    "\n",
    "        for i in remove:\n",
    "            G.remove_edge(i[0],i[1])\n",
    "        \n",
    "        n = np.random.choice(N,init)\n",
    "        comp = set()\n",
    "        for i in range(init):\n",
    "            comp = comp.union(nx.node_connected_component(F, n[i]))\n",
    "        temp =+len(comp)/(50*N)\n",
    "    \n",
    "    s.append(temp)"
   ]
  },
  {
   "cell_type": "code",
   "execution_count": null,
   "metadata": {},
   "outputs": [],
   "source": [
    "plt.bar(T, np.asarray(s))\n",
    "plt.title('1% infected')\n",
    "plt.xlabel('Transmisibility')\n",
    "plt.ylabel('Total size of infected components')\n",
    "plt.show()"
   ]
  },
  {
   "cell_type": "code",
   "execution_count": 5,
   "metadata": {},
   "outputs": [
    {
     "ename": "KeyboardInterrupt",
     "evalue": "",
     "output_type": "error",
     "traceback": [
      "\u001b[0;31m---------------------------------------------------------------------------\u001b[0m",
      "\u001b[0;31mKeyboardInterrupt\u001b[0m                         Traceback (most recent call last)",
      "\u001b[0;32m<ipython-input-5-b2af6547b4c2>\u001b[0m in \u001b[0;36m<module>\u001b[0;34m\u001b[0m\n\u001b[1;32m      5\u001b[0m     \u001b[0mtemp\u001b[0m \u001b[0;34m=\u001b[0m \u001b[0;36m0\u001b[0m\u001b[0;34m\u001b[0m\u001b[0;34m\u001b[0m\u001b[0m\n\u001b[1;32m      6\u001b[0m     \u001b[0;32mfor\u001b[0m \u001b[0mk\u001b[0m \u001b[0;32min\u001b[0m \u001b[0mrange\u001b[0m\u001b[0;34m(\u001b[0m\u001b[0;36m10\u001b[0m\u001b[0;34m)\u001b[0m\u001b[0;34m:\u001b[0m\u001b[0;34m\u001b[0m\u001b[0;34m\u001b[0m\u001b[0m\n\u001b[0;32m----> 7\u001b[0;31m         \u001b[0mG\u001b[0m \u001b[0;34m=\u001b[0m \u001b[0mnx\u001b[0m\u001b[0;34m.\u001b[0m\u001b[0mbarabasi_albert_graph\u001b[0m\u001b[0;34m(\u001b[0m\u001b[0mN\u001b[0m\u001b[0;34m,\u001b[0m\u001b[0;36m1\u001b[0m\u001b[0;34m)\u001b[0m\u001b[0;34m\u001b[0m\u001b[0;34m\u001b[0m\u001b[0m\n\u001b[0m\u001b[1;32m      8\u001b[0m         \u001b[0mremove\u001b[0m \u001b[0;34m=\u001b[0m\u001b[0mlist\u001b[0m\u001b[0;34m(\u001b[0m\u001b[0;34m)\u001b[0m\u001b[0;34m\u001b[0m\u001b[0;34m\u001b[0m\u001b[0m\n\u001b[1;32m      9\u001b[0m \u001b[0;34m\u001b[0m\u001b[0m\n",
      "\u001b[0;32m</Library/Frameworks/Python.framework/Versions/3.7/lib/python3.7/site-packages/decorator.py:decorator-gen-711>\u001b[0m in \u001b[0;36mbarabasi_albert_graph\u001b[0;34m(n, m, seed)\u001b[0m\n",
      "\u001b[0;32m/Library/Frameworks/Python.framework/Versions/3.7/lib/python3.7/site-packages/networkx/utils/decorators.py\u001b[0m in \u001b[0;36m_random_state\u001b[0;34m(func, *args, **kwargs)\u001b[0m\n\u001b[1;32m    462\u001b[0m         \u001b[0mnew_args\u001b[0m \u001b[0;34m=\u001b[0m \u001b[0mlist\u001b[0m\u001b[0;34m(\u001b[0m\u001b[0margs\u001b[0m\u001b[0;34m)\u001b[0m\u001b[0;34m\u001b[0m\u001b[0;34m\u001b[0m\u001b[0m\n\u001b[1;32m    463\u001b[0m         \u001b[0mnew_args\u001b[0m\u001b[0;34m[\u001b[0m\u001b[0mrandom_state_index\u001b[0m\u001b[0;34m]\u001b[0m \u001b[0;34m=\u001b[0m \u001b[0mrandom_state\u001b[0m\u001b[0;34m\u001b[0m\u001b[0;34m\u001b[0m\u001b[0m\n\u001b[0;32m--> 464\u001b[0;31m         \u001b[0;32mreturn\u001b[0m \u001b[0mfunc\u001b[0m\u001b[0;34m(\u001b[0m\u001b[0;34m*\u001b[0m\u001b[0mnew_args\u001b[0m\u001b[0;34m,\u001b[0m \u001b[0;34m**\u001b[0m\u001b[0mkwargs\u001b[0m\u001b[0;34m)\u001b[0m\u001b[0;34m\u001b[0m\u001b[0;34m\u001b[0m\u001b[0m\n\u001b[0m\u001b[1;32m    465\u001b[0m     \u001b[0;32mreturn\u001b[0m \u001b[0m_random_state\u001b[0m\u001b[0;34m\u001b[0m\u001b[0;34m\u001b[0m\u001b[0m\n",
      "\u001b[0;32m/Library/Frameworks/Python.framework/Versions/3.7/lib/python3.7/site-packages/networkx/generators/random_graphs.py\u001b[0m in \u001b[0;36mbarabasi_albert_graph\u001b[0;34m(n, m, seed)\u001b[0m\n\u001b[1;32m    664\u001b[0m     \u001b[0;32mwhile\u001b[0m \u001b[0msource\u001b[0m \u001b[0;34m<\u001b[0m \u001b[0mn\u001b[0m\u001b[0;34m:\u001b[0m\u001b[0;34m\u001b[0m\u001b[0;34m\u001b[0m\u001b[0m\n\u001b[1;32m    665\u001b[0m         \u001b[0;31m# Add edges to m nodes from the source.\u001b[0m\u001b[0;34m\u001b[0m\u001b[0;34m\u001b[0m\u001b[0;34m\u001b[0m\u001b[0m\n\u001b[0;32m--> 666\u001b[0;31m         \u001b[0mG\u001b[0m\u001b[0;34m.\u001b[0m\u001b[0madd_edges_from\u001b[0m\u001b[0;34m(\u001b[0m\u001b[0mzip\u001b[0m\u001b[0;34m(\u001b[0m\u001b[0;34m[\u001b[0m\u001b[0msource\u001b[0m\u001b[0;34m]\u001b[0m \u001b[0;34m*\u001b[0m \u001b[0mm\u001b[0m\u001b[0;34m,\u001b[0m \u001b[0mtargets\u001b[0m\u001b[0;34m)\u001b[0m\u001b[0;34m)\u001b[0m\u001b[0;34m\u001b[0m\u001b[0;34m\u001b[0m\u001b[0m\n\u001b[0m\u001b[1;32m    667\u001b[0m         \u001b[0;31m# Add one node to the list for each new edge just created.\u001b[0m\u001b[0;34m\u001b[0m\u001b[0;34m\u001b[0m\u001b[0;34m\u001b[0m\u001b[0m\n\u001b[1;32m    668\u001b[0m         \u001b[0mrepeated_nodes\u001b[0m\u001b[0;34m.\u001b[0m\u001b[0mextend\u001b[0m\u001b[0;34m(\u001b[0m\u001b[0mtargets\u001b[0m\u001b[0;34m)\u001b[0m\u001b[0;34m\u001b[0m\u001b[0;34m\u001b[0m\u001b[0m\n",
      "\u001b[0;31mKeyboardInterrupt\u001b[0m: "
     ]
    }
   ],
   "source": [
    "nodes = np.arange(0,N,1)\n",
    "init = 0.02*N\n",
    "s = list()\n",
    "for j in T:\n",
    "    temp = 0\n",
    "    for k in range(50):\n",
    "        G = nx.barabasi_albert_graph(N,1) \n",
    "        remove =list()\n",
    "\n",
    "        for i in G.edges():\n",
    "            if np.random.binomial(1,j) == 1:\n",
    "                remove.append(i)                 #can't remove right away, because G.edges() changes and it gives an error\n",
    "\n",
    "        for i in remove:\n",
    "            G.remove_edge(i[0],i[1])\n",
    "        \n",
    "        n = np.random.choice(N,init)\n",
    "        comp = set()\n",
    "        for i in range(init):\n",
    "            comp = comp.union(nx.node_connected_component(F, n[i]))\n",
    "        temp =+len(comp)/(50*N)\n",
    "    \n",
    "    s.append(temp)"
   ]
  },
  {
   "cell_type": "code",
   "execution_count": null,
   "metadata": {},
   "outputs": [],
   "source": [
    "plt.bar(T, np.asarray(s))\n",
    "plt.title('2% infected')\n",
    "plt.xlabel('Transmisibility')\n",
    "plt.ylabel('Total size of infected components')\n",
    "plt.show()"
   ]
  },
  {
   "cell_type": "code",
   "execution_count": null,
   "metadata": {},
   "outputs": [],
   "source": [
    "nodes = np.arange(0,N,1)\n",
    "init = 0.03*N\n",
    "s = list()\n",
    "for j in T:\n",
    "    temp = 0\n",
    "    for k in range(50):\n",
    "        G = nx.barabasi_albert_graph(N,1) \n",
    "        remove =list()\n",
    "\n",
    "        for i in G.edges():\n",
    "            if np.random.binomial(1,j) == 1:\n",
    "                remove.append(i)                 #can't remove right away, because G.edges() changes and it gives an error\n",
    "\n",
    "        for i in remove:\n",
    "            G.remove_edge(i[0],i[1])\n",
    "        \n",
    "        n = np.random.choice(N,init)\n",
    "        comp = set()\n",
    "        for i in range(init):\n",
    "            comp = comp.union(nx.node_connected_component(F, n[i]))\n",
    "        temp =+len(comp)/(50*N)\n",
    "    \n",
    "    s.append(temp)"
   ]
  },
  {
   "cell_type": "code",
   "execution_count": null,
   "metadata": {},
   "outputs": [],
   "source": [
    "plt.bar(T, np.asarray(s))\n",
    "plt.title('3% infected')\n",
    "plt.xlabel('Transmisibility')\n",
    "plt.ylabel('Total size of infected components')\n",
    "plt.show()"
   ]
  },
  {
   "cell_type": "code",
   "execution_count": null,
   "metadata": {},
   "outputs": [],
   "source": [
    "nodes = np.arange(0,N,1)\n",
    "init = 0.035*N\n",
    "s = list()\n",
    "for j in T:\n",
    "    temp = 0\n",
    "    for k in range(50):\n",
    "        G = nx.barabasi_albert_graph(N,1) \n",
    "        remove =list()\n",
    "\n",
    "        for i in G.edges():\n",
    "            if np.random.binomial(1,j) == 1:\n",
    "                remove.append(i)                 #can't remove right away, because G.edges() changes and it gives an error\n",
    "\n",
    "        for i in remove:\n",
    "            G.remove_edge(i[0],i[1])\n",
    "        \n",
    "        n = np.random.choice(N,init)\n",
    "        comp = set()\n",
    "        for i in range(init):\n",
    "            comp = comp.union(nx.node_connected_component(F, n[i]))\n",
    "        temp =+len(comp)/(50*N)\n",
    "    \n",
    "    s.append(temp)"
   ]
  },
  {
   "cell_type": "code",
   "execution_count": null,
   "metadata": {},
   "outputs": [],
   "source": [
    "plt.bar(T, np.asarray(s), 'ro')\n",
    "plt.title('3.5% infected')\n",
    "plt.xlabel('Transmisibility')\n",
    "plt.ylabel('Total size of infected components')\n",
    "plt.show()"
   ]
  },
  {
   "cell_type": "code",
   "execution_count": null,
   "metadata": {},
   "outputs": [],
   "source": [
    "nodes = np.arange(0,N,1)\n",
    "init = 0.04*N\n",
    "s = list()\n",
    "for j in T:\n",
    "    temp = 0\n",
    "    for k in range(50):\n",
    "        G = nx.barabasi_albert_graph(N,1) \n",
    "        remove =list()\n",
    "\n",
    "        for i in G.edges():\n",
    "            if np.random.binomial(1,j) == 1:\n",
    "                remove.append(i)                 #can't remove right away, because G.edges() changes and it gives an error\n",
    "\n",
    "        for i in remove:\n",
    "            G.remove_edge(i[0],i[1])\n",
    "        \n",
    "        n = np.random.choice(N,init)\n",
    "        comp = set()\n",
    "        for i in range(init):\n",
    "            comp = comp.union(nx.node_connected_component(F, n[i]))\n",
    "        temp =+len(comp)/(50*N)\n",
    "    \n",
    "    s.append(temp)"
   ]
  },
  {
   "cell_type": "code",
   "execution_count": null,
   "metadata": {},
   "outputs": [],
   "source": [
    "plt.bar(T, np.asarray(s))\n",
    "plt.title('4% infected')\n",
    "plt.xlabel('Transmisibility')\n",
    "plt.ylabel('Total size of infected components')\n",
    "plt.show()"
   ]
  }
 ],
 "metadata": {
  "kernelspec": {
   "display_name": "Python 3",
   "language": "python",
   "name": "python3"
  },
  "language_info": {
   "codemirror_mode": {
    "name": "ipython",
    "version": 3
   },
   "file_extension": ".py",
   "mimetype": "text/x-python",
   "name": "python",
   "nbconvert_exporter": "python",
   "pygments_lexer": "ipython3",
   "version": "3.7.4"
  }
 },
 "nbformat": 4,
 "nbformat_minor": 4
}
