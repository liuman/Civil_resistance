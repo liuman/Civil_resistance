{
 "cells": [
  {
   "cell_type": "code",
   "execution_count": 2,
   "metadata": {},
   "outputs": [],
   "source": [
    "import networkx as nx\n",
    "import numpy as np\n",
    "import matplotlib.pyplot as plt\n",
    "from math import log"
   ]
  },
  {
   "cell_type": "code",
   "execution_count": 3,
   "metadata": {},
   "outputs": [],
   "source": [
    "N = 10000\n",
    "p = 0.9\n",
    "T = np.arange(0,1,0.05)"
   ]
  },
  {
   "cell_type": "code",
   "execution_count": null,
   "metadata": {},
   "outputs": [],
   "source": [
    "nodes = np.arange(0,N,1)\n",
    "init = 1\n",
    "s = list()\n",
    "for j in T:\n",
    "    temp = 0\n",
    "    for k in range(10):\n",
    "        G = nx.erdos_renyi_graph(N, p, seed=None, directed=False)\n",
    "        remove =list()\n",
    "\n",
    "        for i in G.edges():\n",
    "            if np.random.binomial(1,j) == 1:\n",
    "                remove.append(i)                 #can't remove right away, because G.edges() changes and it gives an error\n",
    "\n",
    "        for i in remove:\n",
    "            G.remove_edge(i[0],i[1])\n",
    "        for c in sorted(nx.connected_components(G), key=len, reverse=True):\n",
    "            temp += len(c)*len(c)/(N*10)\n",
    "    s.append(temp)"
   ]
  },
  {
   "cell_type": "code",
   "execution_count": null,
   "metadata": {},
   "outputs": [],
   "source": [
    "plt.bar(T, np.asarray(s))\n",
    "plt.title('One infected')\n",
    "plt.xlabel('Transmisibility')\n",
    "plt.ylabel('Total size of infected components')\n",
    "plt.show()\n",
    "print(s)"
   ]
  },
  {
   "cell_type": "code",
   "execution_count": 26,
   "metadata": {},
   "outputs": [],
   "source": [
    "nodes = np.arange(0,N,1)\n",
    "init = int(0.01*N)\n",
    "s = list()\n",
    "for j in T:\n",
    "    temp = 0\n",
    "    for k in range(50):\n",
    "        G = nx.barabasi_albert_graph(N,1) \n",
    "        remove =list()\n",
    "\n",
    "        for i in G.edges():\n",
    "            if np.random.binomial(1,j) == 1:\n",
    "                remove.append(i)                 #can't remove right away, because G.edges() changes and it gives an error\n",
    "\n",
    "        for i in remove:\n",
    "            G.remove_edge(i[0],i[1])\n",
    "        \n",
    "        n = np.random.choice(N,init)\n",
    "        comp = set()\n",
    "        for i in range(init):\n",
    "            comp = comp.union(nx.node_connected_component(G, n[i]))\n",
    "        temp += len(comp)/(50*N)\n",
    "\n",
    "    \n",
    "    s.append(temp)"
   ]
  },
  {
   "cell_type": "code",
   "execution_count": 27,
   "metadata": {},
   "outputs": [
    {
     "data": {
      "image/png": "[encoded data removed]",
      "text/plain": [
       "<Figure size 432x288 with 1 Axes>"
      ]
     },
     "metadata": {
      "needs_background": "light"
     },
     "output_type": "display_data"
    },
    {
     "name": "stdout",
     "output_type": "stream",
     "text": [
      "[1.0000000000000004, 0.878252, 0.766374, 0.6628160000000001, 0.5719060000000001, 0.48639599999999994, 0.408946, 0.3439960000000001, 0.275962, 0.22794800000000007, 0.18094399999999997, 0.14043200000000003, 0.10884, 0.07323199999999999, 0.056864000000000005, 0.04143799999999999, 0.027127999999999996, 0.020291999999999998, 0.014529999999999996, 0.011193999999999997]\n"
     ]
    }
   ],
   "source": [
    "plt.bar(T, np.asarray(s))\n",
    "plt.title('1% infected')\n",
    "plt.xlabel('Transmisibility')\n",
    "plt.ylabel('Total size of infected components')\n",
    "plt.show()\n",
    "print(s)"
   ]
  },
  {
   "cell_type": "code",
   "execution_count": 28,
   "metadata": {},
   "outputs": [],
   "source": [
    "nodes = np.arange(0,N,1)\n",
    "init = int(0.02*N)\n",
    "s = list()\n",
    "for j in T:\n",
    "    temp = 0\n",
    "    for k in range(50):\n",
    "        G = nx.barabasi_albert_graph(N,1) \n",
    "        remove =list()\n",
    "\n",
    "        for i in G.edges():\n",
    "            if np.random.binomial(1,j) == 1:\n",
    "                remove.append(i)                 #can't remove right away, because G.edges() changes and it gives an error\n",
    "\n",
    "        for i in remove:\n",
    "            G.remove_edge(i[0],i[1])\n",
    "        \n",
    "        n = np.random.choice(N,init)\n",
    "        comp = set()\n",
    "        for i in range(init):\n",
    "            comp = comp.union(nx.node_connected_component(G, n[i]))\n",
    "        temp +=len(comp)/(50*N)\n",
    "    \n",
    "    s.append(temp)"
   ]
  },
  {
   "cell_type": "code",
   "execution_count": 29,
   "metadata": {},
   "outputs": [
    {
     "data": {
      "image/png": "[encoded data removed]",
      "text/plain": [
       "<Figure size 432x288 with 1 Axes>"
      ]
     },
     "metadata": {
      "needs_background": "light"
     },
     "output_type": "display_data"
    },
    {
     "name": "stdout",
     "output_type": "stream",
     "text": [
      "[1.0000000000000004, 0.8952800000000001, 0.7990319999999999, 0.7051080000000001, 0.6206959999999999, 0.5392540000000001, 0.46359799999999995, 0.394324, 0.33648999999999996, 0.27942199999999995, 0.23123600000000002, 0.18607399999999996, 0.146076, 0.11406199999999997, 0.09218200000000003, 0.06580000000000003, 0.049528, 0.037712, 0.028562, 0.02272]\n"
     ]
    }
   ],
   "source": [
    "plt.bar(T, np.asarray(s))\n",
    "plt.title('2% infected')\n",
    "plt.xlabel('Transmisibility')\n",
    "plt.ylabel('Total size of infected components')\n",
    "plt.show()\n",
    "print(s)"
   ]
  },
  {
   "cell_type": "code",
   "execution_count": 30,
   "metadata": {},
   "outputs": [],
   "source": [
    "nodes = np.arange(0,N,1)\n",
    "init = int(0.03*N)\n",
    "s = list()\n",
    "for j in T:\n",
    "    temp = 0\n",
    "    for k in range(50):\n",
    "        G = nx.barabasi_albert_graph(N,1) \n",
    "        remove =list()\n",
    "\n",
    "        for i in G.edges():\n",
    "            if np.random.binomial(1,j) == 1:\n",
    "                remove.append(i)                 #can't remove right away, because G.edges() changes and it gives an error\n",
    "\n",
    "        for i in remove:\n",
    "            G.remove_edge(i[0],i[1])\n",
    "        \n",
    "        n = np.random.choice(N,init)\n",
    "        comp = set()\n",
    "        for i in range(init):\n",
    "            comp = comp.union(nx.node_connected_component(G, n[i]))\n",
    "        temp +=len(comp)/(50*N)\n",
    "    \n",
    "    s.append(temp)"
   ]
  },
  {
   "cell_type": "code",
   "execution_count": 31,
   "metadata": {},
   "outputs": [
    {
     "data": {
      "image/png": "[encoded data removed]",
      "text/plain": [
       "<Figure size 432x288 with 1 Axes>"
      ]
     },
     "metadata": {
      "needs_background": "light"
     },
     "output_type": "display_data"
    },
    {
     "name": "stdout",
     "output_type": "stream",
     "text": [
      "[1.0000000000000004, 0.9043780000000001, 0.816388, 0.7262099999999999, 0.6438559999999999, 0.5693819999999999, 0.49680800000000014, 0.43440599999999996, 0.37066199999999994, 0.3180219999999999, 0.267026, 0.21775000000000005, 0.177672, 0.14205600000000007, 0.11473000000000003, 0.08905, 0.0676, 0.052718, 0.041814, 0.033856]\n"
     ]
    }
   ],
   "source": [
    "plt.bar(T, np.asarray(s))\n",
    "plt.title('3% infected')\n",
    "plt.xlabel('Transmisibility')\n",
    "plt.ylabel('Total size of infected components')\n",
    "plt.show()\n",
    "print(s)"
   ]
  },
  {
   "cell_type": "code",
   "execution_count": 32,
   "metadata": {},
   "outputs": [],
   "source": [
    "nodes = np.arange(0,N,1)\n",
    "init = int(0.035*N)\n",
    "s = list()\n",
    "for j in T:\n",
    "    temp = 0\n",
    "    for k in range(50):\n",
    "        G = nx.barabasi_albert_graph(N,1) \n",
    "        remove =list()\n",
    "\n",
    "        for i in G.edges():\n",
    "            if np.random.binomial(1,j) == 1:\n",
    "                remove.append(i)                 #can't remove right away, because G.edges() changes and it gives an error\n",
    "\n",
    "        for i in remove:\n",
    "            G.remove_edge(i[0],i[1])\n",
    "        \n",
    "        n = np.random.choice(N,init)\n",
    "        comp = set()\n",
    "        for i in range(init):\n",
    "            comp = comp.union(nx.node_connected_component(G, n[i]))\n",
    "        temp +=len(comp)/(50*N)\n",
    "    \n",
    "    s.append(temp)"
   ]
  },
  {
   "cell_type": "code",
   "execution_count": 34,
   "metadata": {},
   "outputs": [
    {
     "data": {
      "image/png": "[encoded data removed]",
      "text/plain": [
       "<Figure size 432x288 with 1 Axes>"
      ]
     },
     "metadata": {
      "needs_background": "light"
     },
     "output_type": "display_data"
    },
    {
     "name": "stdout",
     "output_type": "stream",
     "text": [
      "[1.0000000000000004, 0.908268, 0.8226080000000001, 0.7374500000000002, 0.657318, 0.58681, 0.514126, 0.44628199999999996, 0.38525799999999993, 0.33138999999999996, 0.27888399999999997, 0.23426599999999997, 0.19364599999999996, 0.156714, 0.125548, 0.09939, 0.076808, 0.060268000000000016, 0.048015999999999996, 0.03930199999999998]\n"
     ]
    }
   ],
   "source": [
    "plt.bar(T, np.asarray(s))\n",
    "plt.title('3.5% infected')\n",
    "plt.xlabel('Transmisibility')\n",
    "plt.ylabel('Total size of infected components')\n",
    "plt.show()\n",
    "print(s)"
   ]
  },
  {
   "cell_type": "code",
   "execution_count": 35,
   "metadata": {},
   "outputs": [],
   "source": [
    "nodes = np.arange(0,N,1)\n",
    "init = int(0.04*N)\n",
    "s = list()\n",
    "for j in T:\n",
    "    temp = 0\n",
    "    for k in range(50):\n",
    "        G = nx.barabasi_albert_graph(N,1) \n",
    "        remove =list()\n",
    "\n",
    "        for i in G.edges():\n",
    "            if np.random.binomial(1,j) == 1:\n",
    "                remove.append(i)                 #can't remove right away, because G.edges() changes and it gives an error\n",
    "\n",
    "        for i in remove:\n",
    "            G.remove_edge(i[0],i[1])\n",
    "        \n",
    "        n = np.random.choice(N,init)\n",
    "        comp = set()\n",
    "        for i in range(init):\n",
    "            comp = comp.union(nx.node_connected_component(G, n[i]))\n",
    "        temp +=len(comp)/(50*N)\n",
    "    \n",
    "    s.append(temp)"
   ]
  },
  {
   "cell_type": "code",
   "execution_count": 36,
   "metadata": {},
   "outputs": [
    {
     "data": {
      "image/png": "[encoded data removed]",
      "text/plain": [
       "<Figure size 432x288 with 1 Axes>"
      ]
     },
     "metadata": {
      "needs_background": "light"
     },
     "output_type": "display_data"
    },
    {
     "name": "stdout",
     "output_type": "stream",
     "text": [
      "[1.0000000000000004, 0.9108919999999999, 0.8258920000000001, 0.747822, 0.6660539999999998, 0.597096, 0.5270440000000001, 0.46007599999999993, 0.40371799999999997, 0.34546000000000004, 0.2967719999999999, 0.249384, 0.20561599999999994, 0.16921199999999995, 0.13826999999999998, 0.10814799999999998, 0.08542200000000001, 0.06825400000000001, 0.05466199999999999, 0.044488000000000014]\n"
     ]
    }
   ],
   "source": [
    "plt.bar(T, np.asarray(s))\n",
    "plt.title('4% infected')\n",
    "plt.xlabel('Transmisibility')\n",
    "plt.ylabel('Total size of infected components')\n",
    "plt.show()\n",
    "print(s)"
   ]
  },
  {
   "cell_type": "code",
   "execution_count": null,
   "metadata": {},
   "outputs": [],
   "source": []
  }
 ],
 "metadata": {
  "kernelspec": {
   "display_name": "Python 3",
   "language": "python",
   "name": "python3"
  },
  "language_info": {
   "codemirror_mode": {
    "name": "ipython",
    "version": 3
   },
   "file_extension": ".py",
   "mimetype": "text/x-python",
   "name": "python",
   "nbconvert_exporter": "python",
   "pygments_lexer": "ipython3",
   "version": "3.7.4"
  }
 },
 "nbformat": 4,
 "nbformat_minor": 4
}
