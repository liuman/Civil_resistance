{
 "cells": [
  {
   "cell_type": "code",
   "execution_count": 720,
   "metadata": {},
   "outputs": [],
   "source": [
    "import networkx as nx\n",
    "import numpy as np\n",
    "import matplotlib.pyplot as plt\n",
    "\n",
    "### In this version if a healthy individual(blue) is connected to an infected(red) there is a probability I that they\n",
    "### will become infected. If an individual is red there is a probability R of becoming blue. We assume no immunity \n",
    "### after recovery, and also DONT assume that if an infected individual has only infected neighours they are \n",
    "### immune to recovery"
   ]
  },
  {
   "cell_type": "code",
   "execution_count": 721,
   "metadata": {},
   "outputs": [],
   "source": [
    "N = 1000\n",
    "k = 5 # on average the number of friends one has\n",
    "p = 0.4 # probability of rewiring in the Wats-Strogatz algorithm\n",
    "\n",
    "G = nx.connected_watts_strogatz_graph(N,k,p) # Small-world network\n",
    "G2 = nx.scale_free_graph(N)                  # Scale free"
   ]
  },
  {
   "cell_type": "code",
   "execution_count": 722,
   "metadata": {},
   "outputs": [],
   "source": [
    "for j in range(N):\n",
    "    G.nodes[j]['color'] = 'blue' # not infected\n",
    "    G2.nodes[j]['color'] = 'blue'"
   ]
  },
  {
   "cell_type": "code",
   "execution_count": 723,
   "metadata": {},
   "outputs": [],
   "source": [
    "init_inf = 0.02 # proportion of infected people\n",
    "threshold_up = int(0.2*N) # when the disease is successful\n",
    "threshold_down = int(0.01*N) # when it dies off\n",
    "\n",
    "init_distr = np.random.choice(N, int(round(N*init_inf)), replace=False) #Initial infected nodes\n",
    "\n",
    "inf = int(round(N*init_inf))"
   ]
  },
  {
   "cell_type": "code",
   "execution_count": 724,
   "metadata": {},
   "outputs": [],
   "source": [
    "for j in init_distr:\n",
    "    G.nodes[j]['color'] = 'red' # infect\n",
    "    G2.nodes[j]['color'] = 'red'"
   ]
  },
  {
   "cell_type": "code",
   "execution_count": 725,
   "metadata": {},
   "outputs": [],
   "source": [
    "# Using standard SIR model\n",
    "\n",
    "R = 0.01 #recovery probability\n",
    "I = 0.1 #infection probability\n",
    "\n",
    "nextstate = np.zeros(N) # 0 is blue, 1 is red\n",
    "inf_t =np.array([100*inf/N]) # infected at time t"
   ]
  },
  {
   "cell_type": "code",
   "execution_count": 726,
   "metadata": {},
   "outputs": [],
   "source": [
    "while (threshold_down<inf) and (inf<threshold_up):\n",
    "    for n, nbrs in G.adj.items():            #These two lines are a weird artefact for accesing neighbours in nx\n",
    "        if G.nodes[n]['color'] == 'blue':\n",
    "            if any([G.nodes[nbr]['color']=='red'] for nbr, eatr in nbrs.items() ):\n",
    "                nextstate[n]=np.random.binomial(1,I)\n",
    "            else:\n",
    "                nextstate[n]=0\n",
    "        else:                            #else it is infected and has probability of flipping and becoming succeptible again\n",
    "            nextstate[n]=np.random.binomial(1,(1-R))\n",
    "    inf = sum(nextstate)\n",
    "    inf_t = np.append(inf_t,[100*inf/N])\n",
    "    \n",
    "    for j in range(N):\n",
    "        if nextstate[j] == 0:\n",
    "            G.nodes[j]['color'] = 'blue'\n",
    "        else:\n",
    "            G.nodes[j]['color'] = 'red'\n",
    "            \n",
    "nextstate2 = np.zeros(N)            \n",
    "inf2=int(round(N*init_inf))\n",
    "inf_t2 =np.array([100*inf2/N])            \n",
    "while (threshold_down<inf2) and (inf2<threshold_up):\n",
    "    for n, nbrs in G2.adj.items():            #These two lines are a weird artefact for accesing neighbours in nx\n",
    "        if G2.nodes[n]['color'] == 'blue':\n",
    "            if any([G2.nodes[nbr]['color']=='red'] for nbr, eatr in nbrs.items() ):\n",
    "                nextstate2[n]=np.random.binomial(1,I)\n",
    "            else:\n",
    "                nextstate2[n]=0\n",
    "        else:                            #else it is infected and has probability of flipping and becoming succeptible again\n",
    "            nextstate2[n]=np.random.binomial(1,(1-R))\n",
    "    inf2 = sum(nextstate2)\n",
    "    inf_t2 = np.append(inf_t2,[100*inf2/N])\n",
    "    \n",
    "    for j in range(N):\n",
    "        if nextstate[j] == 0:\n",
    "            G2.nodes[j]['color'] = 'blue'\n",
    "        else:\n",
    "            G2.nodes[j]['color'] = 'red'"
   ]
  },
  {
   "cell_type": "code",
   "execution_count": 727,
   "metadata": {},
   "outputs": [
    {
     "name": "stdout",
     "output_type": "stream",
     "text": [
      "For small-world, the disease won and the infection level is 21.1%\n"
     ]
    },
    {
     "data": {
      "image/png": "[encoded data removed]",
      "text/plain": [
       "<Figure size 432x288 with 1 Axes>"
      ]
     },
     "metadata": {
      "needs_background": "light"
     },
     "output_type": "display_data"
    }
   ],
   "source": [
    "if inf<threshold_down:\n",
    "    print(\"For small-world, the disease was wiped out and the infection level is {}\".format(round(100*inf/N,2)) )\n",
    "if inf>threshold_up:\n",
    "    print(\"For small-world, the disease won and the infection level is {}%\".format(round(100*inf/N,2)) )\n",
    "\n",
    "plt.plot(inf_t)\n",
    "plt.show()"
   ]
  },
  {
   "cell_type": "code",
   "execution_count": 728,
   "metadata": {},
   "outputs": [
    {
     "name": "stdout",
     "output_type": "stream",
     "text": [
      "For Scale free, the disease won and the infection level is 27.3%\n"
     ]
    },
    {
     "data": {
      "image/png": "[encoded data removed]",
      "text/plain": [
       "<Figure size 432x288 with 1 Axes>"
      ]
     },
     "metadata": {
      "needs_background": "light"
     },
     "output_type": "display_data"
    }
   ],
   "source": [
    "if inf<threshold_down:\n",
    "    print(\"For Scale free, the disease was wiped out and the infection level is {}\".format(round(100*inf2/N,2)) )\n",
    "if inf>threshold_up:\n",
    "    print(\"For Scale free, the disease won and the infection level is {}%\".format(round(100*inf2/N,2)) )\n",
    "\n",
    "plt.plot(inf_t2)\n",
    "plt.show()"
   ]
  },
  {
   "cell_type": "markdown",
   "metadata": {},
   "source": [
    "This is expected since the recovery rate is much lower than the infection rate, there is essentially no way for the dissease to slow down.\n",
    "\n",
    "We shall continue looking at the ones where we introduce immunity."
   ]
  },
  {
   "cell_type": "code",
   "execution_count": 729,
   "metadata": {},
   "outputs": [],
   "source": [
    "F = nx.connected_watts_strogatz_graph(N,k,p) \n",
    "\n",
    "for j in range(N):\n",
    "    F.nodes[j]['color'] = 'blue' \n",
    "    \n",
    "for j in init_distr:\n",
    "    F.nodes[j]['color'] = 'red'\n",
    "    \n",
    "inf = int(round(N*init_inf))\n",
    "inf_t_immune = np.array([100*inf/N])"
   ]
  },
  {
   "cell_type": "code",
   "execution_count": 730,
   "metadata": {},
   "outputs": [],
   "source": [
    "F2 = nx.scale_free_graph(N)\n",
    "\n",
    "for j in range(N):\n",
    "    F2.nodes[j]['color'] = 'blue' \n",
    "    \n",
    "for j in init_distr:\n",
    "    F2.nodes[j]['color'] = 'red'\n",
    "    \n",
    "inf2 = int(round(N*init_inf))\n",
    "inf_t_immune2 = np.array([100*inf2/N])"
   ]
  },
  {
   "cell_type": "code",
   "execution_count": 731,
   "metadata": {},
   "outputs": [],
   "source": [
    "while (threshold_down<inf<threshold_up):\n",
    "    for n, nbrs in F.adj.items():            #These two lines are a weird artefact for accesing neighbours in nx\n",
    "            if F.nodes[n]['color'] == 'blue':\n",
    "                if any([F.nodes[nbr]['color']=='red'] for nbr, eatr in nbrs.items() ):\n",
    "                    nextstate[n]=np.random.binomial(1,I)\n",
    "                else:\n",
    "                    nextstate[n]=0\n",
    "            else:                            #else it is infected and has probability of flipping and becoming succeptible again\n",
    "                nextstate[n]=int(np.random.binomial(1,R) + 1) #2 means immune now\n",
    "    inf = list(nextstate).count(1)\n",
    "    inf_t_immune = np.append([inf_t_immune],[100*inf/N])\n",
    "    for j in range(N):\n",
    "        if nextstate[j] == 0:\n",
    "            F.nodes[j]['color'] = 'blue'\n",
    "        elif nextstate[j] == 1:\n",
    "            F.nodes[j]['color'] = 'red'\n",
    "        else:\n",
    "            F.nodes[j]['color'] = 'green' #immune\n",
    "    "
   ]
  },
  {
   "cell_type": "code",
   "execution_count": 732,
   "metadata": {},
   "outputs": [],
   "source": [
    "while (threshold_down<inf2<threshold_up):\n",
    "    for n, nbrs in F2.adj.items():            #These two lines are a weird artefact for accesing neighbours in nx\n",
    "            if F2.nodes[n]['color'] == 'blue':\n",
    "                if any([F2.nodes[nbr]['color']=='red'] for nbr, eatr in nbrs.items() ):\n",
    "                    nextstate2[n]=np.random.binomial(1,I)\n",
    "                else:\n",
    "                    nextstate2[n]=0\n",
    "            else:                            #else it is infected and has probability of flipping and becoming succeptible again\n",
    "                nextstate2[n]=int(np.random.binomial(1,R) + 1) #2 means immune now\n",
    "    inf2 = list(nextstate2).count(1)\n",
    "    inf_t_immune2 = np.append([inf_t_immune2],[100*inf2/N])\n",
    "    for j in range(N):\n",
    "        if nextstate2[j] == 0:\n",
    "            F2.nodes[j]['color'] = 'blue'\n",
    "        elif nextstate2[j] == 1:\n",
    "            F2.nodes[j]['color'] = 'red'\n",
    "        else:\n",
    "            F2.nodes[j]['color'] = 'green' #immune\n",
    "    "
   ]
  },
  {
   "cell_type": "code",
   "execution_count": 733,
   "metadata": {},
   "outputs": [
    {
     "name": "stdout",
     "output_type": "stream",
     "text": [
      "The disease won and the infection level is 26.7%\n"
     ]
    },
    {
     "data": {
      "image/png": "[encoded data removed]",
      "text/plain": [
       "<Figure size 432x288 with 1 Axes>"
      ]
     },
     "metadata": {
      "needs_background": "light"
     },
     "output_type": "display_data"
    }
   ],
   "source": [
    "if inf<threshold_down:\n",
    "    print(\"The disease was wiped out and the infection level is {}\".format(round(100*inf/N,2)) )\n",
    "if inf>threshold_up:\n",
    "    print(\"The disease won and the infection level is {}%\".format(round(100*inf/N,2)) )\n",
    "    \n",
    "plt.plot(inf_t_immune)\n",
    "plt.show()"
   ]
  },
  {
   "cell_type": "code",
   "execution_count": 734,
   "metadata": {},
   "outputs": [
    {
     "name": "stdout",
     "output_type": "stream",
     "text": [
      "For Scale free, the disease won and the infection level is 25.2%\n"
     ]
    },
    {
     "data": {
      "image/png": "[encoded data removed]",
      "text/plain": [
       "<Figure size 432x288 with 1 Axes>"
      ]
     },
     "metadata": {
      "needs_background": "light"
     },
     "output_type": "display_data"
    }
   ],
   "source": [
    "if inf<threshold_down:\n",
    "    print(\"For Scale free, the disease was wiped out and the infection level is {}\".format(round(100*inf2/N,2)) )\n",
    "if inf>threshold_up:\n",
    "    print(\"For Scale free, the disease won and the infection level is {}%\".format(round(100*inf2/N,2)) )\n",
    "\n",
    "plt.plot(inf_t_immune2)\n",
    "plt.show()"
   ]
  },
  {
   "cell_type": "markdown",
   "metadata": {},
   "source": [
    "Now consider a model where the infection rate of an individual depends on the proportion od neighbours infected. Treat both, being red and being blue as infection states. This means, if an individual is red, then we look at the proportion of neighbours that are blue to calculate the switch rate. Similarly for blue individuals. Note, even if a node is blue and all its neighbours are red (or vice-versa) there is still a possibility of the individual to remain blue (This should reflect the fact that changing opinions is difficult). We do however want that if a blue individual is connected to only blue neighbours, the probability of becomming radicalized is 0. We shall assume first that the infection rate of red (radical ideas) is higher than blue, so that it makes sense to talk about an idea to be successful, otherwise it is obvious that blue would win if the starting percentage of red is around 3% as reffered in the paper.\n",
    "\n",
    "We consider no Immunity."
   ]
  },
  {
   "cell_type": "code",
   "execution_count": 735,
   "metadata": {},
   "outputs": [],
   "source": [
    "H = nx.connected_watts_strogatz_graph(N,k,p) \n",
    "\n",
    "for j in range(N):\n",
    "    H.nodes[j]['color'] = 'blue' \n",
    "    \n",
    "for j in init_distr:\n",
    "    H.nodes[j]['color'] = 'red'\n",
    "    \n",
    "inf = int(round(N*init_inf))\n",
    "inf_t = np.array([100*inf/N])\n",
    "\n",
    "I = 0.5 #at maximum red neighbours this is the flipping rate for blue\n",
    "R = 0.3 #at maximum blue neighbours this is the flipping rate for red"
   ]
  },
  {
   "cell_type": "code",
   "execution_count": 736,
   "metadata": {},
   "outputs": [],
   "source": [
    "H2 = nx.scale_free_graph(N)\n",
    "\n",
    "for j in range(N):\n",
    "    H2.nodes[j]['color'] = 'blue' \n",
    "    \n",
    "for j in init_distr:\n",
    "    H2.nodes[j]['color'] = 'red'\n",
    "    \n",
    "inf2 = int(round(N*init_inf))\n",
    "inf_t2 = np.array([100*inf2/N])"
   ]
  },
  {
   "cell_type": "code",
   "execution_count": 737,
   "metadata": {},
   "outputs": [],
   "source": [
    "while (threshold_down<inf<threshold_up):\n",
    "    for n, nbrs in H.adj.items():           #These two lines are a weird artefact for accesing neighbours in nx\n",
    "        countr = 0                      #count red neighbours\n",
    "        for nbr, eatr in nbrs.items():\n",
    "            if H.nodes[nbr]['color']=='red':\n",
    "                countr = countr + 1\n",
    "        if H.nodes[n]['color'] == 'blue':\n",
    "            nextstate[n]=np.random.binomial(1,I*countr/len(nbrs))\n",
    "        else:                            #else it is infected and has probability of flipping and becoming succeptible again\n",
    "            nextstate[n]=np.random.binomial(1,(1-R*(1-(countr/len(nbrs))))) \n",
    "    inf = list(nextstate).count(1)\n",
    "    inf_t = np.append([inf_t],[100*inf/N])\n",
    "    for j in range(N):\n",
    "        if nextstate[j] == 0:\n",
    "            H.nodes[j]['color'] = 'blue'\n",
    "        elif nextstate[j] == 1:\n",
    "            H.nodes[j]['color'] = 'red'\n",
    "    "
   ]
  },
  {
   "cell_type": "code",
   "execution_count": 738,
   "metadata": {},
   "outputs": [],
   "source": [
    "while (threshold_down<inf2<threshold_up):\n",
    "    for n, nbrs in H2.adj.items():           #These two lines are a weird artefact for accesing neighbours in nx\n",
    "        if len(nbrs)>0:\n",
    "            countr = 0                      #count red neighbours\n",
    "            for nbr, eatr in nbrs.items():\n",
    "                if H2.nodes[nbr]['color']=='red':\n",
    "                    countr = countr + 1\n",
    "            if H2.nodes[n]['color'] == 'blue':\n",
    "                nextstate2[n]=np.random.binomial(1,I*countr/len(nbrs))\n",
    "            else:                            #else it is infected and has probability of flipping and becoming succeptible again\n",
    "                nextstate2[n]=np.random.binomial(1,(1-R*(1-(countr/len(nbrs))))) \n",
    "        else:\n",
    "            if H2.nodes[n]['color']=='blue':\n",
    "                nextstate2[n]=0\n",
    "            else:\n",
    "                nextstate2[n]=1\n",
    "    inf2 = list(nextstate2).count(1)\n",
    "    inf_t2 = np.append([inf_t2],[100*inf2/N])\n",
    "    for j in range(N):\n",
    "        if nextstate2[j] == 0:\n",
    "            H2.nodes[j]['color'] = 'blue'\n",
    "        elif nextstate2[j] == 1:\n",
    "            H2.nodes[j]['color'] = 'red'\n",
    "    "
   ]
  },
  {
   "cell_type": "code",
   "execution_count": 739,
   "metadata": {},
   "outputs": [
    {
     "name": "stdout",
     "output_type": "stream",
     "text": [
      "The disease won and the infection level is 20.2%\n"
     ]
    },
    {
     "data": {
      "image/png": "[encoded data removed]",
      "text/plain": [
       "<Figure size 432x288 with 1 Axes>"
      ]
     },
     "metadata": {
      "needs_background": "light"
     },
     "output_type": "display_data"
    }
   ],
   "source": [
    "if inf<threshold_down:\n",
    "    print(\"The disease was wiped out and the infection level is {}\".format(round(100*inf/N,2)) )\n",
    "if inf>threshold_up:\n",
    "    print(\"The disease won and the infection level is {}%\".format(round(100*inf/N,2)) )\n",
    "    \n",
    "plt.plot(inf_t)\n",
    "plt.show()"
   ]
  },
  {
   "cell_type": "code",
   "execution_count": 740,
   "metadata": {},
   "outputs": [
    {
     "name": "stdout",
     "output_type": "stream",
     "text": [
      "For Scale free, the disease won and the infection level is 28.0%\n"
     ]
    },
    {
     "data": {
      "image/png": "[encoded data removed]",
      "text/plain": [
       "<Figure size 432x288 with 1 Axes>"
      ]
     },
     "metadata": {
      "needs_background": "light"
     },
     "output_type": "display_data"
    }
   ],
   "source": [
    "if inf<threshold_down:\n",
    "    print(\"For Scale free, the disease was wiped out and the infection level is {}\".format(round(100*inf2/N,2)) )\n",
    "if inf>threshold_up:\n",
    "    print(\"For Scale free, the disease won and the infection level is {}%\".format(round(100*inf2/N,2)) )\n",
    "\n",
    "plt.plot(inf_t2)\n",
    "plt.show()"
   ]
  }
 ],
 "metadata": {
  "kernelspec": {
   "display_name": "Python 3",
   "language": "python",
   "name": "python3"
  },
  "language_info": {
   "codemirror_mode": {
    "name": "ipython",
    "version": 3
   },
   "file_extension": ".py",
   "mimetype": "text/x-python",
   "name": "python",
   "nbconvert_exporter": "python",
   "pygments_lexer": "ipython3",
   "version": "3.7.4"
  }
 },
 "nbformat": 4,
 "nbformat_minor": 4
}
