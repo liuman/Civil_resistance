{
 "cells": [
  {
   "cell_type": "code",
   "execution_count": 109,
   "metadata": {},
   "outputs": [],
   "source": [
    "import networkx as nx\n",
    "import numpy as np\n",
    "import matplotlib.pyplot as plt\n",
    "\n",
    "### In this version if a healthy individual(blue) is connected to an infected(red) there is a probability I that they\n",
    "### will become infected. If an individual is red there is a probability R of becoming blue. We assume no immunity \n",
    "### after recovery, and also DONT assume that if an infected individual has only infected neighours they are \n",
    "### immune to recovery"
   ]
  },
  {
   "cell_type": "code",
   "execution_count": 110,
   "metadata": {},
   "outputs": [],
   "source": [
    "n = 1000\n",
    "k = 5 # on average the number of friends one has\n",
    "p = 0.2 # probability of rewiring in the Wats-Strogatz algorithm\n",
    "\n",
    "G = nx.connected_watts_strogatz_graph(n,k,p) # Small-world network"
   ]
  },
  {
   "cell_type": "code",
   "execution_count": 111,
   "metadata": {},
   "outputs": [],
   "source": [
    "for j in range(n):\n",
    "    G.nodes[j]['color'] = 'blue' # not infected"
   ]
  },
  {
   "cell_type": "code",
   "execution_count": 112,
   "metadata": {},
   "outputs": [],
   "source": [
    "init_inf = 0.03 # proportion of infected people\n",
    "threshold_up = 0.2*n # when the disease is successful\n",
    "threshold_down = 0.01*n # when it dies off\n",
    "\n",
    "init_distr = np.random.choice(n, int(round(n*init_inf)), replace=False) #Initial infected nodes\n",
    "\n",
    "inf = int(round(n*init_inf))"
   ]
  },
  {
   "cell_type": "code",
   "execution_count": 113,
   "metadata": {},
   "outputs": [],
   "source": [
    "for j in init_distr:\n",
    "    G.nodes[j]['color'] = 'red' # infect"
   ]
  },
  {
   "cell_type": "code",
   "execution_count": 114,
   "metadata": {},
   "outputs": [],
   "source": [
    "# Using standard SIR model\n",
    "\n",
    "R = 0.01 #recovery probability\n",
    "I = 0.1 #infection probability\n",
    "\n",
    "nextstate = np.zeros(n)\n",
    "inf_t =np.array([100*inf/n]) # infected at time t"
   ]
  },
  {
   "cell_type": "code",
   "execution_count": 115,
   "metadata": {},
   "outputs": [],
   "source": [
    "while (threshold_down<inf<threshold_up):\n",
    "    for n, nbrs in G.adj.items():            #These two lines are a weird artefact for accesing neighbours in nx\n",
    "            if G.nodes[n]['color'] == 'blue':\n",
    "                if any([G.nodes[nbr]['color']=='red'] for nbr, eatr in nbrs.items() ):\n",
    "                    nextstate[n]=np.random.binomial(1,I)\n",
    "                else:\n",
    "                    nextstate[n]=0\n",
    "            else:                            #else it is infected and has probability of flipping and becoming succeptible again\n",
    "                nextstate[n]=np.random.binomial(1,(1-R))\n",
    "    inf = sum(nextstate)\n",
    "    inf_t = np.append(inf_t,[100*inf/n])\n",
    "    for j in range(n):\n",
    "        if nextstate[j] == 0:\n",
    "            G.nodes[j]['color'] = 'blue'\n",
    "        else:\n",
    "            G.nodes[j]['color'] = 'red'"
   ]
  },
  {
   "cell_type": "code",
   "execution_count": 116,
   "metadata": {},
   "outputs": [
    {
     "name": "stdout",
     "output_type": "stream",
     "text": [
      "The disease won and the infection level is 20.62%\n"
     ]
    },
    {
     "data": {
      "image/png": "[encoded data removed]",
      "text/plain": [
       "<Figure size 432x288 with 1 Axes>"
      ]
     },
     "metadata": {
      "needs_background": "light"
     },
     "output_type": "display_data"
    }
   ],
   "source": [
    "if inf<threshold_down:\n",
    "    print(\"The disease was wiped out and the infection level is {}\".format(round(100*inf/n,2)) )\n",
    "if inf>threshold_up:\n",
    "    print(\"The disease won and the infection level is {}%\".format(round(100*inf/n,2)) )\n",
    "\n",
    "plt.plot(inf_t)\n",
    "plt.show()"
   ]
  },
  {
   "cell_type": "markdown",
   "metadata": {},
   "source": [
    "This is expected since the recovery rate is much lower than the infection rate, there is essentially no way for the dissease to slow down.\n",
    "\n",
    "We shall continue looking at the ones where we introduce immunity."
   ]
  },
  {
   "cell_type": "code",
   "execution_count": 117,
   "metadata": {},
   "outputs": [],
   "source": [
    "F = nx.connected_watts_strogatz_graph(n,k,p) \n",
    "\n",
    "for j in range(n):\n",
    "    F.nodes[j]['color'] = 'blue' \n",
    "    \n",
    "for j in init_distr:\n",
    "    F.nodes[j]['color'] = 'red'\n",
    "    \n",
    "inf = int(round(n*init_inf))\n",
    "inf_t_immune = np.array([100*inf/n])"
   ]
  },
  {
   "cell_type": "code",
   "execution_count": 118,
   "metadata": {},
   "outputs": [],
   "source": [
    "while (threshold_down<inf<threshold_up):\n",
    "    for n, nbrs in F.adj.items():            #These two lines are a weird artefact for accesing neighbours in nx\n",
    "            if F.nodes[n]['color'] == 'blue':\n",
    "                if any([F.nodes[nbr]['color']=='red'] for nbr, eatr in nbrs.items() ):\n",
    "                    nextstate[n]=np.random.binomial(1,I)\n",
    "                else:\n",
    "                    nextstate[n]=0\n",
    "            else:                            #else it is infected and has probability of flipping and becoming succeptible again\n",
    "                nextstate[n]=int(np.random.binomial(1,R) + 1) #2 means immune now\n",
    "    inf = list(nextstate).count(1)\n",
    "    inf_t_immune = np.append([inf_t_immune],[100*inf/n])\n",
    "    for j in range(n):\n",
    "        if nextstate[j] == 0:\n",
    "            F.nodes[j]['color'] = 'blue'\n",
    "        elif nextstate[j] == 1:\n",
    "            F.nodes[j]['color'] = 'red'\n",
    "        else:\n",
    "            F.nodes[j]['color'] = 'green' #immune\n",
    "    "
   ]
  },
  {
   "cell_type": "code",
   "execution_count": 119,
   "metadata": {},
   "outputs": [
    {
     "name": "stdout",
     "output_type": "stream",
     "text": [
      "The disease won and the infection level is 22.34%\n"
     ]
    },
    {
     "data": {
      "image/png": "[encoded data removed]",
      "text/plain": [
       "<Figure size 432x288 with 1 Axes>"
      ]
     },
     "metadata": {
      "needs_background": "light"
     },
     "output_type": "display_data"
    }
   ],
   "source": [
    "if inf<threshold_down:\n",
    "    print(\"The disease was wiped out and the infection level is {}\".format(round(100*inf/n,2)) )\n",
    "if inf>threshold_up:\n",
    "    print(\"The disease won and the infection level is {}%\".format(round(100*inf/n,2)) )\n",
    "    \n",
    "plt.plot(inf_t_immune)\n",
    "plt.show()"
   ]
  },
  {
   "cell_type": "code",
   "execution_count": null,
   "metadata": {},
   "outputs": [],
   "source": []
  }
 ],
 "metadata": {
  "kernelspec": {
   "display_name": "Python 3",
   "language": "python",
   "name": "python3"
  },
  "language_info": {
   "codemirror_mode": {
    "name": "ipython",
    "version": 3
   },
   "file_extension": ".py",
   "mimetype": "text/x-python",
   "name": "python",
   "nbconvert_exporter": "python",
   "pygments_lexer": "ipython3",
   "version": "3.7.4"
  }
 },
 "nbformat": 4,
 "nbformat_minor": 4
}
